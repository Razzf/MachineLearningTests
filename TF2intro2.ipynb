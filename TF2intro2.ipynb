{
  "nbformat": 4,
  "nbformat_minor": 0,
  "metadata": {
    "colab": {
      "name": "TF2intro.ipynb",
      "provenance": [],
      "collapsed_sections": [],
      "mount_file_id": "1XtJFB_e20IReJRKPrejf7vQSBVXb3bLT",
      "authorship_tag": "ABX9TyPY9kwyqtfbHWbQw+nSCWLh",
      "include_colab_link": true
    },
    "kernelspec": {
      "name": "python3",
      "display_name": "Python 3"
    }
  },
  "cells": [
    {
      "cell_type": "markdown",
      "metadata": {
        "id": "view-in-github",
        "colab_type": "text"
      },
      "source": [
        "<a href=\"https://colab.research.google.com/github/Razzf/MachineLearningTests/blob/master/TF2intro2.ipynb\" target=\"_parent\"><img src=\"https://colab.research.google.com/assets/colab-badge.svg\" alt=\"Open In Colab\"/></a>"
      ]
    },
    {
      "cell_type": "code",
      "metadata": {
        "id": "OY87VduWQA5G",
        "colab_type": "code",
        "colab": {}
      },
      "source": [
        "import numpy as np\n",
        "import pandas as pd\n",
        "import sklearn as sk"
      ],
      "execution_count": 0,
      "outputs": []
    },
    {
      "cell_type": "code",
      "metadata": {
        "id": "j609sh85C4FE",
        "colab_type": "code",
        "colab": {
          "base_uri": "https://localhost:8080/",
          "height": 476
        },
        "outputId": "e4d4e443-e0e2-4aa4-c492-99243f9fdb0e"
      },
      "source": [
        "\n",
        "data = pd.read_csv(\"/content/drive/My Drive/tensorflowtest/student-mat.csv\", sep=\";\")\n",
        "#print(data['sex'])\n",
        "data['paid'] = data['paid'].map({'yes':True, 'no':False})\n",
        "data['famsup'] = data['famsup'].map({'yes':True, 'no':False})\n",
        "data['schoolsup'] = data['schoolsup'].map({'yes':True, 'no':False})\n",
        "pd.set_option('display.max_columns', data.shape[0]+1)\n",
        "print(data.head())"
      ],
      "execution_count": 146,
      "outputs": [
        {
          "output_type": "stream",
          "text": [
            "  school sex  age address famsize Pstatus  Medu  Fedu     Mjob      Fjob  \\\n",
            "0     GP   F   18       U     GT3       A     4     4  at_home   teacher   \n",
            "1     GP   F   17       U     GT3       T     1     1  at_home     other   \n",
            "2     GP   F   15       U     LE3       T     1     1  at_home     other   \n",
            "3     GP   F   15       U     GT3       T     4     2   health  services   \n",
            "4     GP   F   16       U     GT3       T     3     3    other     other   \n",
            "\n",
            "   reason guardian  traveltime  studytime  failures  schoolsup  famsup   paid  \\\n",
            "0  course   mother           2          2         0       True   False  False   \n",
            "1  course   father           1          2         0      False    True  False   \n",
            "2   other   mother           1          2         3       True   False   True   \n",
            "3    home   mother           1          3         0      False    True   True   \n",
            "4    home   father           1          2         0      False    True   True   \n",
            "\n",
            "  activities nursery higher internet romantic  famrel  freetime  goout  Dalc  \\\n",
            "0         no     yes    yes       no       no       4         3      4     1   \n",
            "1         no      no    yes      yes       no       5         3      3     1   \n",
            "2         no     yes    yes      yes       no       4         3      2     2   \n",
            "3        yes     yes    yes      yes      yes       3         2      2     1   \n",
            "4         no     yes    yes       no       no       4         3      2     1   \n",
            "\n",
            "   Walc  health  absences  G1  G2  G3  \n",
            "0     1       3         6   5   6   6  \n",
            "1     1       3         4   5   5   6  \n",
            "2     3       3        10   7   8  10  \n",
            "3     1       5         2  15  14  15  \n",
            "4     2       5         4   6  10  10  \n"
          ],
          "name": "stdout"
        }
      ]
    },
    {
      "cell_type": "code",
      "metadata": {
        "id": "F3Ndhgvg-HIg",
        "colab_type": "code",
        "colab": {}
      },
      "source": [
        "data = data[[\"G1\", \"G2\", \"G3\", \"studytime\", \"failures\", \"absences\", \"traveltime\", \"famsup\", \"schoolsup\"]]\n",
        "#print(data.head())"
      ],
      "execution_count": 0,
      "outputs": []
    },
    {
      "cell_type": "code",
      "metadata": {
        "id": "4zGF7NFeDtI0",
        "colab_type": "code",
        "colab": {}
      },
      "source": [
        "predict = \"G3\"\n",
        "x = np.array(data.drop([predict], 1))\n",
        "y = np.array(data[predict])\n",
        "x_train, x_test, y_train, y_test = sk.model_selection.train_test_split(x,y, test_size = .1)"
      ],
      "execution_count": 0,
      "outputs": []
    },
    {
      "cell_type": "code",
      "metadata": {
        "id": "BCdlzM0h2ezS",
        "colab_type": "code",
        "colab": {
          "base_uri": "https://localhost:8080/",
          "height": 34
        },
        "outputId": "03d5b962-bce4-4f0e-fc40-785ca4b2cc70"
      },
      "source": [
        "linear = sk.linear_model.LinearRegression()\n",
        "linear.fit(x_train, y_train)\n",
        "acc = linear.score(x_test, y_test)\n",
        "print(acc)"
      ],
      "execution_count": 149,
      "outputs": [
        {
          "output_type": "stream",
          "text": [
            "0.8493711718555542\n"
          ],
          "name": "stdout"
        }
      ]
    }
  ]
}