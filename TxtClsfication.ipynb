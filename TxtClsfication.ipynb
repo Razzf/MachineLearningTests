{
  "nbformat": 4,
  "nbformat_minor": 0,
  "metadata": {
    "colab": {
      "name": "TxtClsfication.ipynb",
      "provenance": [],
      "collapsed_sections": [],
      "authorship_tag": "ABX9TyMLr/G1G+03aDb0jPRdqXf3",
      "include_colab_link": true
    },
    "kernelspec": {
      "name": "python3",
      "display_name": "Python 3"
    }
  },
  "cells": [
    {
      "cell_type": "markdown",
      "metadata": {
        "id": "view-in-github",
        "colab_type": "text"
      },
      "source": [
        "<a href=\"https://colab.research.google.com/github/Razzf/MachineLearningTests/blob/master/TxtClsfication.ipynb\" target=\"_parent\"><img src=\"https://colab.research.google.com/assets/colab-badge.svg\" alt=\"Open In Colab\"/></a>"
      ]
    },
    {
      "cell_type": "code",
      "metadata": {
        "id": "2MSuE444Jmys",
        "colab_type": "code",
        "colab": {}
      },
      "source": [
        "#importing modules\n",
        "import tensorflow as tf\n",
        "from tensorflow import keras\n",
        "import numpy\n",
        "from random import randint\n",
        "\n",
        "#loading the data\n",
        "imdb = keras.datasets.imdb\n",
        "(train_data, train_labels), (test_data, test_labels) = imdb.load_data(num_words=10000)"
      ],
      "execution_count": 0,
      "outputs": []
    },
    {
      "cell_type": "code",
      "metadata": {
        "id": "x9lBWAOWnkMb",
        "colab_type": "code",
        "colab": {}
      },
      "source": [
        "# A dictionary mapping words to an integer index\n",
        "word_index = imdb.get_word_index()\n",
        "\n",
        "word_index = {k:(v+3) for k,v in word_index.items()}\n",
        "word_index[\"<PAD>\"] = 0\n",
        "word_index[\"<START>\"] = 1\n",
        "word_index[\"<UNK>\"] = 2  # unknown\n",
        "word_index[\"<UNUSED>\"] = 3\n",
        "\n",
        "reverse_word_index = dict([(value, key) for (key, value) in word_index.items()])\n",
        "\n",
        "def decode_review(coded_text):\n",
        "\treturn \" \".join([reverse_word_index.get(i, \"?\") for i in coded_text])\n",
        "\n",
        "# this function will return the decoded (human readable) reviews  "
      ],
      "execution_count": 0,
      "outputs": []
    },
    {
      "cell_type": "code",
      "metadata": {
        "id": "tRdyCbESmHot",
        "colab_type": "code",
        "colab": {}
      },
      "source": [
        "#funcs for debugging\n",
        "def get_key(val): \n",
        "\tfor key, value in word_index.items(): \n",
        "\t\tif val == value: \n",
        "\t\t\treturn key\n",
        "\n",
        "def get_value(key):\n",
        "\tfor keyy, value in word_index.items():\n",
        "\t\tif key == keyy:\n",
        "\t\t\treturn value\n"
      ],
      "execution_count": 0,
      "outputs": []
    },
    {
      "cell_type": "code",
      "metadata": {
        "id": "Y9BxmAE6nszJ",
        "colab_type": "code",
        "colab": {
          "base_uri": "https://localhost:8080/",
          "height": 88
        },
        "outputId": "497cd812-aa39-4c66-8189-f3ab08a02fba"
      },
      "source": [
        "print(train_data[0], \"\\n\")\n",
        "print(decode_review(train_data[0]))"
      ],
      "execution_count": 38,
      "outputs": [
        {
          "output_type": "stream",
          "text": [
            "[1, 14, 22, 16, 43, 530, 973, 1622, 1385, 65, 458, 4468, 66, 3941, 4, 173, 36, 256, 5, 25, 100, 43, 838, 112, 50, 670, 2, 9, 35, 480, 284, 5, 150, 4, 172, 112, 167, 2, 336, 385, 39, 4, 172, 4536, 1111, 17, 546, 38, 13, 447, 4, 192, 50, 16, 6, 147, 2025, 19, 14, 22, 4, 1920, 4613, 469, 4, 22, 71, 87, 12, 16, 43, 530, 38, 76, 15, 13, 1247, 4, 22, 17, 515, 17, 12, 16, 626, 18, 2, 5, 62, 386, 12, 8, 316, 8, 106, 5, 4, 2223, 5244, 16, 480, 66, 3785, 33, 4, 130, 12, 16, 38, 619, 5, 25, 124, 51, 36, 135, 48, 25, 1415, 33, 6, 22, 12, 215, 28, 77, 52, 5, 14, 407, 16, 82, 2, 8, 4, 107, 117, 5952, 15, 256, 4, 2, 7, 3766, 5, 723, 36, 71, 43, 530, 476, 26, 400, 317, 46, 7, 4, 2, 1029, 13, 104, 88, 4, 381, 15, 297, 98, 32, 2071, 56, 26, 141, 6, 194, 7486, 18, 4, 226, 22, 21, 134, 476, 26, 480, 5, 144, 30, 5535, 18, 51, 36, 28, 224, 92, 25, 104, 4, 226, 65, 16, 38, 1334, 88, 12, 16, 283, 5, 16, 4472, 113, 103, 32, 15, 16, 5345, 19, 178, 32] \n",
            "\n",
            "<START> this film was just brilliant casting location scenery story direction everyone's really suited the part they played and you could just imagine being there robert <UNK> is an amazing actor and now the same being director <UNK> father came from the same scottish island as myself so i loved the fact there was a real connection with this film the witty remarks throughout the film were great it was just brilliant so much that i bought the film as soon as it was released for <UNK> and would recommend it to everyone to watch and the fly fishing was amazing really cried at the end it was so sad and you know what they say if you cry at a film it must have been good and this definitely was also <UNK> to the two little boy's that played the <UNK> of norman and paul they were just brilliant children are often left out of the <UNK> list i think because the stars that play them all grown up are such a big profile for the whole film but these children are amazing and should be praised for what they have done don't you think the whole story was so lovely because it was true and was someone's life after all that was shared with us all\n"
          ],
          "name": "stdout"
        }
      ]
    },
    {
      "cell_type": "code",
      "metadata": {
        "id": "MbJp2NYssT2b",
        "colab_type": "code",
        "colab": {}
      },
      "source": [
        "train_data = keras.preprocessing.sequence.pad_sequences(train_data, value=word_index[\"<PAD>\"], padding=\"post\", maxlen=250)\n",
        "test_data = keras.preprocessing.sequence.pad_sequences(test_data, value=word_index[\"<PAD>\"], padding=\"post\", maxlen=250)"
      ],
      "execution_count": 0,
      "outputs": []
    },
    {
      "cell_type": "code",
      "metadata": {
        "id": "DahjXfKq1MyI",
        "colab_type": "code",
        "colab": {
          "base_uri": "https://localhost:8080/",
          "height": 289
        },
        "outputId": "73e6185a-b6b1-4da8-ab14-958a8aaae81e"
      },
      "source": [
        "#model architecture\n",
        "\n",
        "model = keras.Sequential()\n",
        "model.add(keras.layers.Embedding(10000, 16))\n",
        "model.add(keras.layers.GlobalAveragePooling1D())\n",
        "model.add(keras.layers.Dense(16, activation=\"relu\"))\n",
        "model.add(keras.layers.Dense(1, activation=\"sigmoid\"))\n",
        "\n",
        "model.summary()\n",
        "\n",
        "model.compile(optimizer=\"adam\", loss='binary_crossentropy', metrics=['accuracy'])"
      ],
      "execution_count": 40,
      "outputs": [
        {
          "output_type": "stream",
          "text": [
            "Model: \"sequential_4\"\n",
            "_________________________________________________________________\n",
            "Layer (type)                 Output Shape              Param #   \n",
            "=================================================================\n",
            "embedding_4 (Embedding)      (None, None, 16)          160000    \n",
            "_________________________________________________________________\n",
            "global_average_pooling1d_4 ( (None, 16)                0         \n",
            "_________________________________________________________________\n",
            "dense_8 (Dense)              (None, 16)                272       \n",
            "_________________________________________________________________\n",
            "dense_9 (Dense)              (None, 1)                 17        \n",
            "=================================================================\n",
            "Total params: 160,289\n",
            "Trainable params: 160,289\n",
            "Non-trainable params: 0\n",
            "_________________________________________________________________\n"
          ],
          "name": "stdout"
        }
      ]
    },
    {
      "cell_type": "code",
      "metadata": {
        "id": "FpbfPeX30bCO",
        "colab_type": "code",
        "colab": {}
      },
      "source": [
        "x_val = train_data[:10000]\n",
        "x_train = train_data[10000:]\n",
        "\n",
        "y_val = train_labels[:10000]\n",
        "y_train = train_labels[10000:]"
      ],
      "execution_count": 0,
      "outputs": []
    },
    {
      "cell_type": "code",
      "metadata": {
        "id": "5-ydMRWc0bxb",
        "colab_type": "code",
        "colab": {
          "base_uri": "https://localhost:8080/",
          "height": 1000
        },
        "outputId": "11ad4fcb-61f6-4a13-b4d3-297af04099d4"
      },
      "source": [
        "fitModel = model.fit(x_train, y_train, epochs=40, batch_size=512, validation_data=(x_val, y_val), verbose=1)"
      ],
      "execution_count": 42,
      "outputs": [
        {
          "output_type": "stream",
          "text": [
            "Epoch 1/40\n",
            "30/30 [==============================] - 1s 20ms/step - loss: 0.6920 - accuracy: 0.6202 - val_loss: 0.6903 - val_accuracy: 0.7084\n",
            "Epoch 2/40\n",
            "30/30 [==============================] - 1s 17ms/step - loss: 0.6867 - accuracy: 0.6623 - val_loss: 0.6821 - val_accuracy: 0.7151\n",
            "Epoch 3/40\n",
            "30/30 [==============================] - 1s 17ms/step - loss: 0.6734 - accuracy: 0.7377 - val_loss: 0.6649 - val_accuracy: 0.7509\n",
            "Epoch 4/40\n",
            "30/30 [==============================] - 1s 18ms/step - loss: 0.6487 - accuracy: 0.7704 - val_loss: 0.6367 - val_accuracy: 0.7706\n",
            "Epoch 5/40\n",
            "30/30 [==============================] - 1s 17ms/step - loss: 0.6123 - accuracy: 0.7956 - val_loss: 0.5984 - val_accuracy: 0.7893\n",
            "Epoch 6/40\n",
            "30/30 [==============================] - 1s 18ms/step - loss: 0.5666 - accuracy: 0.8147 - val_loss: 0.5542 - val_accuracy: 0.8076\n",
            "Epoch 7/40\n",
            "30/30 [==============================] - 1s 17ms/step - loss: 0.5166 - accuracy: 0.8349 - val_loss: 0.5091 - val_accuracy: 0.8216\n",
            "Epoch 8/40\n",
            "30/30 [==============================] - 1s 17ms/step - loss: 0.4677 - accuracy: 0.8482 - val_loss: 0.4675 - val_accuracy: 0.8341\n",
            "Epoch 9/40\n",
            "30/30 [==============================] - 1s 17ms/step - loss: 0.4233 - accuracy: 0.8635 - val_loss: 0.4308 - val_accuracy: 0.8434\n",
            "Epoch 10/40\n",
            "30/30 [==============================] - 1s 17ms/step - loss: 0.3854 - accuracy: 0.8752 - val_loss: 0.4011 - val_accuracy: 0.8535\n",
            "Epoch 11/40\n",
            "30/30 [==============================] - 1s 17ms/step - loss: 0.3537 - accuracy: 0.8848 - val_loss: 0.3779 - val_accuracy: 0.8584\n",
            "Epoch 12/40\n",
            "30/30 [==============================] - 1s 18ms/step - loss: 0.3271 - accuracy: 0.8912 - val_loss: 0.3591 - val_accuracy: 0.8645\n",
            "Epoch 13/40\n",
            "30/30 [==============================] - 1s 17ms/step - loss: 0.3048 - accuracy: 0.8981 - val_loss: 0.3437 - val_accuracy: 0.8698\n",
            "Epoch 14/40\n",
            "30/30 [==============================] - 1s 18ms/step - loss: 0.2857 - accuracy: 0.9030 - val_loss: 0.3317 - val_accuracy: 0.8732\n",
            "Epoch 15/40\n",
            "30/30 [==============================] - 1s 21ms/step - loss: 0.2689 - accuracy: 0.9079 - val_loss: 0.3217 - val_accuracy: 0.8757\n",
            "Epoch 16/40\n",
            "30/30 [==============================] - 0s 16ms/step - loss: 0.2541 - accuracy: 0.9121 - val_loss: 0.3138 - val_accuracy: 0.8773\n",
            "Epoch 17/40\n",
            "30/30 [==============================] - 0s 16ms/step - loss: 0.2411 - accuracy: 0.9165 - val_loss: 0.3075 - val_accuracy: 0.8803\n",
            "Epoch 18/40\n",
            "30/30 [==============================] - 0s 16ms/step - loss: 0.2287 - accuracy: 0.9210 - val_loss: 0.3020 - val_accuracy: 0.8806\n",
            "Epoch 19/40\n",
            "30/30 [==============================] - 0s 16ms/step - loss: 0.2176 - accuracy: 0.9245 - val_loss: 0.2982 - val_accuracy: 0.8807\n",
            "Epoch 20/40\n",
            "30/30 [==============================] - 1s 17ms/step - loss: 0.2078 - accuracy: 0.9302 - val_loss: 0.2942 - val_accuracy: 0.8834\n",
            "Epoch 21/40\n",
            "30/30 [==============================] - 0s 17ms/step - loss: 0.1978 - accuracy: 0.9331 - val_loss: 0.2915 - val_accuracy: 0.8838\n",
            "Epoch 22/40\n",
            "30/30 [==============================] - 0s 16ms/step - loss: 0.1892 - accuracy: 0.9368 - val_loss: 0.2889 - val_accuracy: 0.8851\n",
            "Epoch 23/40\n",
            "30/30 [==============================] - 1s 17ms/step - loss: 0.1808 - accuracy: 0.9403 - val_loss: 0.2880 - val_accuracy: 0.8851\n",
            "Epoch 24/40\n",
            "30/30 [==============================] - 0s 16ms/step - loss: 0.1733 - accuracy: 0.9448 - val_loss: 0.2863 - val_accuracy: 0.8861\n",
            "Epoch 25/40\n",
            "30/30 [==============================] - 1s 17ms/step - loss: 0.1657 - accuracy: 0.9469 - val_loss: 0.2859 - val_accuracy: 0.8860\n",
            "Epoch 26/40\n",
            "30/30 [==============================] - 0s 16ms/step - loss: 0.1590 - accuracy: 0.9494 - val_loss: 0.2855 - val_accuracy: 0.8856\n",
            "Epoch 27/40\n",
            "30/30 [==============================] - 1s 17ms/step - loss: 0.1525 - accuracy: 0.9520 - val_loss: 0.2855 - val_accuracy: 0.8864\n",
            "Epoch 28/40\n",
            "30/30 [==============================] - 1s 17ms/step - loss: 0.1463 - accuracy: 0.9549 - val_loss: 0.2864 - val_accuracy: 0.8863\n",
            "Epoch 29/40\n",
            "30/30 [==============================] - 0s 16ms/step - loss: 0.1407 - accuracy: 0.9570 - val_loss: 0.2870 - val_accuracy: 0.8850\n",
            "Epoch 30/40\n",
            "30/30 [==============================] - 0s 17ms/step - loss: 0.1350 - accuracy: 0.9601 - val_loss: 0.2881 - val_accuracy: 0.8857\n",
            "Epoch 31/40\n",
            "30/30 [==============================] - 1s 18ms/step - loss: 0.1301 - accuracy: 0.9622 - val_loss: 0.2891 - val_accuracy: 0.8861\n",
            "Epoch 32/40\n",
            "30/30 [==============================] - 1s 18ms/step - loss: 0.1245 - accuracy: 0.9647 - val_loss: 0.2908 - val_accuracy: 0.8857\n",
            "Epoch 33/40\n",
            "30/30 [==============================] - 1s 17ms/step - loss: 0.1198 - accuracy: 0.9668 - val_loss: 0.2931 - val_accuracy: 0.8858\n",
            "Epoch 34/40\n",
            "30/30 [==============================] - 1s 18ms/step - loss: 0.1151 - accuracy: 0.9679 - val_loss: 0.2949 - val_accuracy: 0.8861\n",
            "Epoch 35/40\n",
            "30/30 [==============================] - 1s 18ms/step - loss: 0.1106 - accuracy: 0.9694 - val_loss: 0.2976 - val_accuracy: 0.8847\n",
            "Epoch 36/40\n",
            "30/30 [==============================] - 1s 18ms/step - loss: 0.1065 - accuracy: 0.9711 - val_loss: 0.3001 - val_accuracy: 0.8842\n",
            "Epoch 37/40\n",
            "30/30 [==============================] - 1s 17ms/step - loss: 0.1023 - accuracy: 0.9726 - val_loss: 0.3023 - val_accuracy: 0.8834\n",
            "Epoch 38/40\n",
            "30/30 [==============================] - 1s 17ms/step - loss: 0.0984 - accuracy: 0.9745 - val_loss: 0.3060 - val_accuracy: 0.8823\n",
            "Epoch 39/40\n",
            "30/30 [==============================] - 0s 17ms/step - loss: 0.0947 - accuracy: 0.9762 - val_loss: 0.3083 - val_accuracy: 0.8832\n",
            "Epoch 40/40\n",
            "30/30 [==============================] - 1s 18ms/step - loss: 0.0908 - accuracy: 0.9771 - val_loss: 0.3119 - val_accuracy: 0.8818\n"
          ],
          "name": "stdout"
        }
      ]
    },
    {
      "cell_type": "code",
      "metadata": {
        "id": "hBSfEDXR0eCr",
        "colab_type": "code",
        "colab": {
          "base_uri": "https://localhost:8080/",
          "height": 51
        },
        "outputId": "2816172e-d99d-4374-ec3f-001258373eca"
      },
      "source": [
        "results = model.evaluate(test_data, test_labels)\n",
        "print(results)"
      ],
      "execution_count": 43,
      "outputs": [
        {
          "output_type": "stream",
          "text": [
            "782/782 [==============================] - 1s 1ms/step - loss: 0.3337 - accuracy: 0.8697\n",
            "[0.3337307870388031, 0.8697199821472168]\n"
          ],
          "name": "stdout"
        }
      ]
    },
    {
      "cell_type": "code",
      "metadata": {
        "id": "Rd8_tsD86fNB",
        "colab_type": "code",
        "colab": {
          "base_uri": "https://localhost:8080/",
          "height": 139
        },
        "outputId": "6412b318-0081-4c85-ff67-163cfd04429e"
      },
      "source": [
        "rand = randint(0, 1000)\n",
        "coded_test_review = test_data[rand]\n",
        "prediction = model.predict([coded_test_review])\n",
        "\n",
        "print(\"Rewiev: \", '\\n', decode_review(coded_test_review))\n",
        "\n",
        "print(\"Prediction: \" + str(prediction[0]))\n",
        "print(\"Actual: \" + str(test_labels[rand]))\n",
        "print(results)"
      ],
      "execution_count": 51,
      "outputs": [
        {
          "output_type": "stream",
          "text": [
            "WARNING:tensorflow:7 out of the last 14 calls to <function Model.make_predict_function.<locals>.predict_function at 0x7f63f10dbe18> triggered tf.function retracing. Tracing is expensive and the excessive number of tracings is likely due to passing python objects instead of tensors. Also, tf.function has experimental_relax_shapes=True option that relaxes argument shapes that can avoid unnecessary retracing. Please refer to https://www.tensorflow.org/tutorials/customization/performance#python_or_tensor_args and https://www.tensorflow.org/api_docs/python/tf/function for more details.\n",
            "Rewiev:  \n",
            " <START> <UNK> des directed by the brilliant <UNK> georges <UNK> is a film to treasure because it is one of the best <UNK> of french film making of the <UNK> years m <UNK> adapting the novel longtime <UNK> shows his genius in the way he sets the story and in the way he all the characters in this deeply satisfying movie that as has pointed out in this forum it demonstrates how influential was and how much the next generation of french movie makers are <UNK> to the master especially claude <UNK> br br the crisp black and white cinematography by <UNK> has been <UNK> transferred to the <UNK> dvd we recently watched working with <UNK> makes the most of the dark tones and the shadows in most of the key scenes the music by francis lopez a man who created light music and in france works well in the context of the film since the action takes place in the world of the music <UNK> and night <UNK> br br louis <UNK> who is seen as a police detective is perfect in the part this was one of his best screen appearances for an actor who was a <UNK> of the french theater <UNK> clearly understood well the <UNK> for the creation of his police inspector who is <UNK> and can look deeply into the souls of his suspects and ultimately steals the show from the others in an unfair comment by someone in this page <UNK> inspector is compared with peter <UNK> columbo the television detective frankly and no <UNK> to mr falk intended it's like comparing a great <UNK> to a good house wine br br bernard <UNK> is perfect as the jealous husband <UNK> had the kind of face that one could associate with the man consumed with the passion his wife jenny <UNK> has <UNK> in him <UNK> is vulnerable and doesn't act <UNK> he is an easy suspect because he has done everything wrong as he finds in the middle of a crime he didn't commit but all the evidence points to the contrary br br the other great character in the film is <UNK> the photographer it's clear by the way she <UNK> with jenny where her real interest lies <UNK> is <UNK> appealing as this troubled woman and makes an enormous contribution to the film <UNK> playing jenny is appealing as the singer who suddenly leaps from obscurity to celebrity and <UNK> the kind of men like the old <UNK> br br the film is one of the best <UNK> directed during his distinguished career and one that will live forever because the way he brought all the elements together\n",
            "Prediction: [0.99805164]\n",
            "Actual: 1\n",
            "[0.3337307870388031, 0.8697199821472168]\n"
          ],
          "name": "stdout"
        }
      ]
    }
  ]
}