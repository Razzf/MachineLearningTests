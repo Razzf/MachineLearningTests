{
  "nbformat": 4,
  "nbformat_minor": 0,
  "metadata": {
    "colab": {
      "name": "TxtClsfication.ipynb",
      "provenance": [],
      "collapsed_sections": [],
      "authorship_tag": "ABX9TyOp8bL1PfUQveby7LjAWXME",
      "include_colab_link": true
    },
    "kernelspec": {
      "name": "python3",
      "display_name": "Python 3"
    }
  },
  "cells": [
    {
      "cell_type": "markdown",
      "metadata": {
        "id": "view-in-github",
        "colab_type": "text"
      },
      "source": [
        "<a href=\"https://colab.research.google.com/github/Razzf/MachineLearningTests/blob/master/TxtClsfication.ipynb\" target=\"_parent\"><img src=\"https://colab.research.google.com/assets/colab-badge.svg\" alt=\"Open In Colab\"/></a>"
      ]
    },
    {
      "cell_type": "code",
      "metadata": {
        "id": "2MSuE444Jmys",
        "colab_type": "code",
        "colab": {}
      },
      "source": [
        "#importing modules\n",
        "import tensorflow as tf\n",
        "from tensorflow import keras\n",
        "import numpy\n",
        "from random import randint\n",
        "import string\n",
        "\n",
        "#loading the data\n",
        "imdb = keras.datasets.imdb\n",
        "(train_data, train_labels), (test_data, test_labels) = imdb.load_data(num_words=10000)"
      ],
      "execution_count": 0,
      "outputs": []
    },
    {
      "cell_type": "code",
      "metadata": {
        "id": "x9lBWAOWnkMb",
        "colab_type": "code",
        "colab": {}
      },
      "source": [
        "# A dictionary mapping words to an integer index\n",
        "word_index = imdb.get_word_index()\n",
        "\n",
        "word_index = {k:(v+3) for k,v in word_index.items()}\n",
        "word_index[\"<PAD>\"] = 0\n",
        "word_index[\"<START>\"] = 1\n",
        "word_index[\"<UNK>\"] = 2  # unknown\n",
        "word_index[\"<UNUSED>\"] = 3\n",
        "\n",
        "reverse_word_index = dict([(value, key) for (key, value) in word_index.items()])\n",
        "\n",
        "def decode_review(coded_text):\n",
        "\treturn \" \".join([reverse_word_index.get(i, \"?\") for i in coded_text])\n",
        " \n",
        "def encode_review(text):\n",
        "\tencoded = [1]\n",
        "\tfor word in text:\n",
        "\t\tif word.lower() in word_index:\n",
        "\t\t\tencoded.append(word_index[word.lower()])\n",
        "\t\telse:\n",
        "\t\t\tencoded.append(2)\n",
        "\n",
        "\treturn encoded\n",
        "\n",
        "# this function will return the decoded (human readable) reviews  "
      ],
      "execution_count": 0,
      "outputs": []
    },
    {
      "cell_type": "code",
      "metadata": {
        "id": "tRdyCbESmHot",
        "colab_type": "code",
        "colab": {}
      },
      "source": [
        "#funcs for debugging\n",
        "def get_key(val): \n",
        "\tfor key, value in word_index.items(): \n",
        "\t\tif val == value: \n",
        "\t\t\treturn key\n",
        "\n",
        "def get_value(key):\n",
        "\tfor keyy, value in word_index.items():\n",
        "\t\tif key == keyy:\n",
        "\t\t\treturn value\n"
      ],
      "execution_count": 0,
      "outputs": []
    },
    {
      "cell_type": "code",
      "metadata": {
        "id": "Y9BxmAE6nszJ",
        "colab_type": "code",
        "outputId": "656d43d2-1de5-439e-8732-6922359824d2",
        "colab": {
          "base_uri": "https://localhost:8080/",
          "height": 88
        }
      },
      "source": [
        "print(train_data[0], \"\\n\")\n",
        "print(decode_review(train_data[0]))"
      ],
      "execution_count": 124,
      "outputs": [
        {
          "output_type": "stream",
          "text": [
            "[1, 14, 22, 16, 43, 530, 973, 1622, 1385, 65, 458, 4468, 66, 3941, 4, 173, 36, 256, 5, 25, 100, 43, 838, 112, 50, 670, 2, 9, 35, 480, 284, 5, 150, 4, 172, 112, 167, 2, 336, 385, 39, 4, 172, 4536, 1111, 17, 546, 38, 13, 447, 4, 192, 50, 16, 6, 147, 2025, 19, 14, 22, 4, 1920, 4613, 469, 4, 22, 71, 87, 12, 16, 43, 530, 38, 76, 15, 13, 1247, 4, 22, 17, 515, 17, 12, 16, 626, 18, 2, 5, 62, 386, 12, 8, 316, 8, 106, 5, 4, 2223, 5244, 16, 480, 66, 3785, 33, 4, 130, 12, 16, 38, 619, 5, 25, 124, 51, 36, 135, 48, 25, 1415, 33, 6, 22, 12, 215, 28, 77, 52, 5, 14, 407, 16, 82, 2, 8, 4, 107, 117, 5952, 15, 256, 4, 2, 7, 3766, 5, 723, 36, 71, 43, 530, 476, 26, 400, 317, 46, 7, 4, 2, 1029, 13, 104, 88, 4, 381, 15, 297, 98, 32, 2071, 56, 26, 141, 6, 194, 7486, 18, 4, 226, 22, 21, 134, 476, 26, 480, 5, 144, 30, 5535, 18, 51, 36, 28, 224, 92, 25, 104, 4, 226, 65, 16, 38, 1334, 88, 12, 16, 283, 5, 16, 4472, 113, 103, 32, 15, 16, 5345, 19, 178, 32] \n",
            "\n",
            "<START> this film was just brilliant casting location scenery story direction everyone's really suited the part they played and you could just imagine being there robert <UNK> is an amazing actor and now the same being director <UNK> father came from the same scottish island as myself so i loved the fact there was a real connection with this film the witty remarks throughout the film were great it was just brilliant so much that i bought the film as soon as it was released for <UNK> and would recommend it to everyone to watch and the fly fishing was amazing really cried at the end it was so sad and you know what they say if you cry at a film it must have been good and this definitely was also <UNK> to the two little boy's that played the <UNK> of norman and paul they were just brilliant children are often left out of the <UNK> list i think because the stars that play them all grown up are such a big profile for the whole film but these children are amazing and should be praised for what they have done don't you think the whole story was so lovely because it was true and was someone's life after all that was shared with us all\n"
          ],
          "name": "stdout"
        }
      ]
    },
    {
      "cell_type": "code",
      "metadata": {
        "id": "MbJp2NYssT2b",
        "colab_type": "code",
        "colab": {}
      },
      "source": [
        "train_data = keras.preprocessing.sequence.pad_sequences(train_data, value=word_index[\"<PAD>\"], padding=\"post\", maxlen=250)\n",
        "test_data = keras.preprocessing.sequence.pad_sequences(test_data, value=word_index[\"<PAD>\"], padding=\"post\", maxlen=250)"
      ],
      "execution_count": 0,
      "outputs": []
    },
    {
      "cell_type": "code",
      "metadata": {
        "id": "DahjXfKq1MyI",
        "colab_type": "code",
        "colab": {}
      },
      "source": [
        "#model architecture\n",
        "\n",
        "model = keras.Sequential()\n",
        "model.add(keras.layers.Embedding(80000, 16))\n",
        "model.add(keras.layers.GlobalAveragePooling1D())\n",
        "model.add(keras.layers.Dense(16, activation=\"relu\"))\n",
        "model.add(keras.layers.Dense(1, activation=\"sigmoid\"))\n",
        "\n",
        "model.summary()\n",
        "\n",
        "model.compile(optimizer=\"adam\", loss='binary_crossentropy', metrics=['accuracy'])\n"
      ],
      "execution_count": 0,
      "outputs": []
    },
    {
      "cell_type": "code",
      "metadata": {
        "id": "FpbfPeX30bCO",
        "colab_type": "code",
        "colab": {}
      },
      "source": [
        "\n",
        "x_val = train_data[:10000]\n",
        "x_train = train_data[10000:]\n",
        "\n",
        "y_val = train_labels[:10000]\n",
        "y_train = train_labels[10000:]\n"
      ],
      "execution_count": 0,
      "outputs": []
    },
    {
      "cell_type": "code",
      "metadata": {
        "id": "5-ydMRWc0bxb",
        "colab_type": "code",
        "colab": {}
      },
      "source": [
        "fitModel = model.fit(x_train, y_train, epochs=40, batch_size=512, validation_data=(x_val, y_val), verbose=1)"
      ],
      "execution_count": 0,
      "outputs": []
    },
    {
      "cell_type": "code",
      "metadata": {
        "id": "hBSfEDXR0eCr",
        "colab_type": "code",
        "outputId": "295d6385-12a6-4386-ea81-cfc9ff69862c",
        "colab": {
          "base_uri": "https://localhost:8080/",
          "height": 71
        }
      },
      "source": [
        "results = model.evaluate(test_data, test_labels)\n",
        "print(results)\n",
        "model.save(\"model.h5\")\n"
      ],
      "execution_count": 129,
      "outputs": [
        {
          "output_type": "stream",
          "text": [
            "782/782 [==============================] - 1s 1ms/step - loss: 0.3256 - accuracy: 0.8721\n",
            "[0.3255917429924011, 0.8720800280570984]\n"
          ],
          "name": "stdout"
        }
      ]
    },
    {
      "cell_type": "code",
      "metadata": {
        "id": "kXUV_gC3TxlM",
        "colab_type": "code",
        "colab": {
          "base_uri": "https://localhost:8080/",
          "height": 428
        },
        "outputId": "4bb54fc3-1182-475d-fe95-ba5023a0d1e5"
      },
      "source": [
        "\n",
        "#model = keras.models.load_model(\"model.h5\")\n",
        "\n",
        "with open(\"text.txt\", encoding=\"utf-8\") as f:\n",
        " for line in f.readlines():\n",
        "  nline = line.translate(str.maketrans('', '', string.punctuation))\n",
        "  nline = nline.split(\" \")\n",
        "  encode = encode_review(nline)\n",
        "  encode = keras.preprocessing.sequence.pad_sequences([encode], value=word_index[\"<PAD>\"], padding=\"post\", maxlen=250) # make the data 250 words long\n",
        "  predict = model.predict(encode)\n",
        "  print(line)\n",
        "  print(encode)\n",
        "  print(predict[0])\n",
        "  \n"
      ],
      "execution_count": 152,
      "outputs": [
        {
          "output_type": "stream",
          "text": [
            "The images were brilliant the acting was top notch and everything was blended together by Hans Zimmer and his Music. 169 minutes flew by me with my eyes fixed on the screen and my heart racing. And there it was.. The ending. I couldn't believe it . I was reliving, rethinking the movie while the credit scenes rolled enjoying the moment, the smell of popcorn, my comfortable seat and what do i see next to me? Ninety percent of the people in the cinema rushing outside after the first second of the credit scenes.\n",
            "[[    1     4  1218    71   530     4   116    16   350  2501     5   285\n",
            "     16 10792   295    34  8360 20952     5    27   228 51306   234  8754\n",
            "     34    72    19    61   523  8533    23     4   268     5    61   483\n",
            "   5969     5    50    12    16     4   277    13 24882   264    12     2\n",
            "     13    16 18352 51743     4    20   137     4  1109   139  4985  2961\n",
            "      4   561     4  7625     7  3912    61  3969  2224     5    51    81\n",
            "     13    67   375     8    72  7774  8928     7     4    84    11     4\n",
            "    438 12957  1005   103     4    86   333     7     4  1109   139     0\n",
            "      0     0     0     0     0     0     0     0     0     0     0     0\n",
            "      0     0     0     0     0     0     0     0     0     0     0     0\n",
            "      0     0     0     0     0     0     0     0     0     0     0     0\n",
            "      0     0     0     0     0     0     0     0     0     0     0     0\n",
            "      0     0     0     0     0     0     0     0     0     0     0     0\n",
            "      0     0     0     0     0     0     0     0     0     0     0     0\n",
            "      0     0     0     0     0     0     0     0     0     0     0     0\n",
            "      0     0     0     0     0     0     0     0     0     0     0     0\n",
            "      0     0     0     0     0     0     0     0     0     0     0     0\n",
            "      0     0     0     0     0     0     0     0     0     0     0     0\n",
            "      0     0     0     0     0     0     0     0     0     0     0     0\n",
            "      0     0     0     0     0     0     0     0     0     0     0     0\n",
            "      0     0     0     0     0     0     0     0     0     0]]\n",
            "[0.9805391]\n"
          ],
          "name": "stdout"
        }
      ]
    },
    {
      "cell_type": "code",
      "metadata": {
        "id": "Rd8_tsD86fNB",
        "colab_type": "code",
        "outputId": "00440384-7383-4ef4-ed58-6a3c7cb15d36",
        "colab": {
          "base_uri": "https://localhost:8080/",
          "height": 428
        }
      },
      "source": [
        "\n",
        "rand = randint(0, 10000)\n",
        "coded_test_review = test_data[rand]\n",
        "print(coded_test_review)\n",
        "prediction = model.predict([coded_test_review])\n",
        "\n",
        "print(\"Rewiev: \", '\\n', decode_review(coded_test_review))\n",
        "\n",
        "print(\"Prediction: \" + str(prediction[0]))\n",
        "print(\"Actual: \" + str(test_labels[rand]))\n",
        "print(results)"
      ],
      "execution_count": 131,
      "outputs": [
        {
          "output_type": "stream",
          "text": [
            "[   1   13  188 1070    7    6    2 1039    7   14   13   69  110   12\n",
            "  450  153  596   61   64 1136  585   69   77  736 1067 1716  121   12\n",
            "   16    2    2   31  115   66  214    6  580    8   79   83  134  102\n",
            "   88    7   32    4    2   13  119    4    2    7 5689  189  102   36\n",
            "  202  178    6 8291 9421   23    4 4824 8362  751    4    2  134   71\n",
            "   50    8 2910  178   39    4  873 3737 4710   21   36  144  216   11\n",
            " 8747  348    4 3842    7   55 1058 9415   10   10   14  843   31 4137\n",
            "   18   49  282  466   94    2   93    7    4  538    2   26   93    7\n",
            "   36   70  131    2  125  945    8  945    2    5    2 4025 7061   10\n",
            "   10  553   45   53  253   86    4 5662 5211  420   37  219    4 1549\n",
            "  155    2   27 6055   11    6 1550   12   43 5291   31   67   35    2\n",
            "   17  194   17    6  313  401  129 1642 2925   13  594   48    4  338\n",
            "  232  188    8  140  344  103   36  258    4 5698   10   10  900   14\n",
            "    9    6  184 1981  781   12 1160    4  644 2048    8  216   56   19\n",
            "    6   96    7    4 9278 5698    5  889  178  911    8   85 4361    4\n",
            " 8577  375   58   13  131   79    6 1968   46    7  134  108    5   14\n",
            "   31    9    2    0    0    0    0    0    0    0    0    0    0    0\n",
            "    0    0    0    0    0    0    0    0    0    0    0    0]\n",
            "Rewiev:  \n",
            " <START> i got hold of a <UNK> copy of this i had seen it several years ago my only recent experience had been mystery science theatre where it was <UNK> <UNK> one never really gets a chance to get into these movies because of all the <UNK> i love the <UNK> of fifties horror movies they give us a pompous lecture on the defense systems near the <UNK> these were there to protect us from the expected soviet invasion but they should come in handy given the threat of very large insects br br this particular one flies for some reason despite its <UNK> made of the stuff <UNK> are made of they can still <UNK> off air to air <UNK> and <UNK> fighter planes br br anyway it's more fun first the obligatory deranged case who saw the flying thing <UNK> his heels in a hospital it just teaches one see an <UNK> as big as a house keep your mouth shut i wonder if the poor guy got to go home after they found the bug br br otherwise this is a pretty ordinary effort it follows the usual efforts to come up with a way of the stubborn bug and leaves us open to other possibilities the russians next time i still get a kick out of these films and this one is <UNK> <PAD> <PAD> <PAD> <PAD> <PAD> <PAD> <PAD> <PAD> <PAD> <PAD> <PAD> <PAD> <PAD> <PAD> <PAD> <PAD> <PAD> <PAD> <PAD> <PAD> <PAD> <PAD> <PAD>\n",
            "Prediction: [1.9888054e-08]\n",
            "Actual: 0\n",
            "[0.3255917429924011, 0.8720800280570984]\n"
          ],
          "name": "stdout"
        }
      ]
    }
  ]
}