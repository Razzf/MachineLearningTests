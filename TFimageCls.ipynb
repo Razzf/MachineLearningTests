{
  "nbformat": 4,
  "nbformat_minor": 0,
  "metadata": {
    "colab": {
      "name": "TFimageCls.ipynb",
      "provenance": [],
      "collapsed_sections": [],
      "authorship_tag": "ABX9TyNHXfjUIJGu72wg8TYeuEok",
      "include_colab_link": true
    },
    "kernelspec": {
      "name": "python3",
      "display_name": "Python 3"
    }
  },
  "cells": [
    {
      "cell_type": "markdown",
      "metadata": {
        "id": "view-in-github",
        "colab_type": "text"
      },
      "source": [
        "<a href=\"https://colab.research.google.com/github/Razzf/MachineLearningTests/blob/master/TFimageCls.ipynb\" target=\"_parent\"><img src=\"https://colab.research.google.com/assets/colab-badge.svg\" alt=\"Open In Colab\"/></a>"
      ]
    },
    {
      "cell_type": "code",
      "metadata": {
        "id": "b63PLLOC0lBi",
        "colab_type": "code",
        "colab": {}
      },
      "source": [
        "import tensorflow as tf\n",
        "from tensorflow import keras\n",
        "import numpy as np\n",
        "import matplotlib.pyplot as plt\n",
        "import random\n"
      ],
      "execution_count": 0,
      "outputs": []
    },
    {
      "cell_type": "code",
      "metadata": {
        "id": "B81ffrrt11kP",
        "colab_type": "code",
        "colab": {}
      },
      "source": [
        "data = keras.datasets.fashion_mnist\n",
        "(train_images, train_labels), (test_images, test_labels) = data.load_data()\n",
        "\n",
        "class_names = ['T-shirt/top', 'Trouser', 'Pullover', 'Dress', 'Coat',\n",
        "               'Sandal', 'Shirt', 'Sneaker', 'Bag', 'Ankle boot']\n",
        "\n",
        "#for label in test_labels:\n",
        "#  print(class_names[label])"
      ],
      "execution_count": 0,
      "outputs": []
    },
    {
      "cell_type": "code",
      "metadata": {
        "id": "NuUeYpcq8RWw",
        "colab_type": "code",
        "colab": {
          "base_uri": "https://localhost:8080/",
          "height": 1000
        },
        "outputId": "f21c74f5-ff19-49e6-81f7-1882a7ae8842"
      },
      "source": [
        "rand_value = random.randint(0, 10000)\n",
        "\n",
        "\n",
        "\n",
        "train_images = train_images/255.0\n",
        "test_images = test_images/255.0\n",
        "\n",
        "print(train_images[rand_value])\n",
        "\n"
      ],
      "execution_count": 122,
      "outputs": [
        {
          "output_type": "stream",
          "text": [
            "[[0.         0.         0.         0.         0.         0.\n",
            "  0.         0.         0.         0.         0.         0.\n",
            "  0.         0.         0.         0.         0.         0.\n",
            "  0.         0.         0.         0.         0.         0.\n",
            "  0.         0.         0.         0.        ]\n",
            " [0.         0.         0.         0.         0.         0.\n",
            "  0.         0.         0.         0.         0.         0.\n",
            "  0.         0.         0.         0.         0.         0.\n",
            "  0.         0.         0.         0.         0.         0.\n",
            "  0.         0.         0.         0.        ]\n",
            " [0.         0.         0.         0.         0.         0.\n",
            "  0.         0.         0.         0.         0.         0.\n",
            "  0.         0.         0.         0.         0.         0.\n",
            "  0.         0.         0.         0.         0.         0.\n",
            "  0.         0.         0.         0.        ]\n",
            " [0.         0.         0.         0.         0.         0.\n",
            "  0.         0.         0.         0.         0.         0.\n",
            "  0.         0.         0.         0.         0.         0.\n",
            "  0.         0.         0.         0.         0.         0.\n",
            "  0.         0.         0.         0.        ]\n",
            " [0.         0.         0.         0.         0.         0.\n",
            "  0.         0.         0.         0.         0.         0.\n",
            "  0.         0.         0.         0.         0.         0.\n",
            "  0.         0.         0.         0.         0.         0.\n",
            "  0.         0.         0.         0.        ]\n",
            " [0.         0.         0.         0.         0.         0.\n",
            "  0.         0.         0.         0.         0.         0.\n",
            "  0.         0.         0.         0.         0.         0.\n",
            "  0.         0.         0.         0.         0.         0.\n",
            "  0.         0.         0.         0.        ]\n",
            " [0.         0.         0.         0.         0.         0.\n",
            "  0.         0.         0.         0.         0.         0.\n",
            "  0.         0.         0.         0.         0.         0.\n",
            "  0.         0.         0.         0.         0.         0.\n",
            "  0.         0.         0.         0.        ]\n",
            " [0.         0.         0.         0.         0.         0.\n",
            "  0.         0.         0.         0.         0.         0.\n",
            "  0.         0.         0.         0.         0.         0.\n",
            "  0.         0.         0.         0.         0.         0.\n",
            "  0.         0.         0.         0.        ]\n",
            " [0.         0.         0.         0.         0.         0.\n",
            "  0.         0.         0.         0.         0.         0.\n",
            "  0.         0.         0.         0.         0.03921569 0.45882353\n",
            "  0.03137255 0.         0.00392157 0.         0.         0.\n",
            "  0.         0.         0.         0.        ]\n",
            " [0.         0.         0.         0.         0.         0.\n",
            "  0.         0.         0.         0.00784314 0.01568627 0.\n",
            "  0.         0.45098039 0.27058824 0.6        0.80784314 0.9254902\n",
            "  0.24313725 0.         0.02352941 0.03529412 0.         0.37647059\n",
            "  0.85490196 0.11764706 0.01176471 0.        ]\n",
            " [0.         0.         0.         0.         0.         0.\n",
            "  0.         0.00784314 0.01176471 0.         0.         0.\n",
            "  0.51764706 0.87843137 0.82352941 0.80392157 0.78431373 0.90980392\n",
            "  0.23921569 0.         0.         0.         0.         0.68235294\n",
            "  0.93333333 0.51372549 0.4745098  0.10196078]\n",
            " [0.         0.         0.         0.         0.         0.01176471\n",
            "  0.         0.         0.         0.         0.3254902  0.78823529\n",
            "  0.82352941 0.79215686 0.81176471 0.75686275 0.78431373 0.91372549\n",
            "  0.25882353 0.         0.         0.38823529 0.9372549  0.89019608\n",
            "  0.78039216 0.8627451  0.37647059 0.        ]\n",
            " [0.         0.01176471 0.02745098 0.         0.         0.\n",
            "  0.         0.         0.37647059 0.74509804 0.84313725 0.82745098\n",
            "  0.8        0.70196078 0.78039216 0.81960784 0.73333333 0.8745098\n",
            "  1.         1.         1.         0.94509804 0.8627451  0.80784314\n",
            "  0.77254902 0.83529412 0.31764706 0.        ]\n",
            " [0.         0.         0.         0.         0.         0.\n",
            "  0.29803922 0.77647059 0.80392157 0.81568627 0.78823529 0.8\n",
            "  0.75294118 0.65098039 0.70588235 0.83529412 0.79607843 0.76470588\n",
            "  0.79607843 0.83921569 0.82352941 0.77647059 0.75294118 0.77647059\n",
            "  0.79607843 0.84313725 0.64705882 0.        ]\n",
            " [0.         0.00784314 0.35294118 0.67058824 0.81568627 0.88627451\n",
            "  0.82745098 0.81568627 0.78039216 0.82745098 0.63921569 0.68235294\n",
            "  0.72156863 0.69411765 0.75686275 0.72156863 0.85098039 0.84705882\n",
            "  0.78431373 0.81176471 0.82352941 0.79215686 0.78823529 0.8\n",
            "  0.79607843 0.84705882 0.70196078 0.        ]\n",
            " [0.25490196 0.74901961 0.87058824 0.82745098 0.82745098 0.81960784\n",
            "  0.80784314 0.81568627 0.84705882 0.85490196 0.7372549  0.80392157\n",
            "  0.78039216 0.68627451 0.76078431 0.79607843 0.68235294 0.84705882\n",
            "  0.82745098 0.81176471 0.85098039 0.81568627 0.82352941 0.84705882\n",
            "  0.83921569 0.86666667 0.78039216 0.        ]\n",
            " [0.66666667 0.87843137 0.77254902 0.82352941 0.80392157 0.80784314\n",
            "  0.80784314 0.79607843 0.81960784 0.78823529 0.84313725 0.70980392\n",
            "  0.7372549  0.74117647 0.79215686 0.76862745 0.78823529 0.84313725\n",
            "  0.85882353 0.85882353 0.85490196 0.84705882 0.84313725 0.82745098\n",
            "  0.77254902 0.71764706 0.76078431 0.        ]\n",
            " [0.41568627 0.8745098  0.82352941 0.83137255 0.8627451  0.96862745\n",
            "  0.99215686 0.98823529 0.94901961 0.9372549  0.91764706 0.88235294\n",
            "  0.8        0.74901961 0.8        0.84313725 0.84705882 0.81960784\n",
            "  0.78039216 0.81176471 0.79215686 0.76862745 0.74901961 0.74117647\n",
            "  0.68627451 0.65882353 0.70588235 0.11764706]\n",
            " [0.         0.45882353 0.81176471 0.81568627 0.73333333 0.43529412\n",
            "  0.50980392 0.56470588 0.58823529 0.59607843 0.57254902 0.70588235\n",
            "  0.75294118 0.71764706 0.76078431 0.76078431 0.75686275 0.78823529\n",
            "  0.81568627 0.81960784 0.83529412 0.83137255 0.81176471 0.83137255\n",
            "  0.80392157 0.76470588 0.76470588 0.49803922]\n",
            " [0.         0.         0.23529412 0.75294118 0.74117647 0.18039216\n",
            "  0.30980392 0.34509804 0.42745098 0.51372549 0.65490196 0.87058824\n",
            "  0.94117647 0.91372549 0.93333333 0.9372549  0.96078431 0.99607843\n",
            "  0.98823529 0.96078431 0.97647059 0.98039216 0.98039216 0.97254902\n",
            "  0.84313725 0.80392157 0.50196078 0.        ]\n",
            " [0.         0.         0.         0.         0.03529412 0.35686275\n",
            "  0.55686275 0.62352941 0.61568627 0.55686275 0.53333333 0.43529412\n",
            "  0.36078431 0.37254902 0.35294118 0.32941176 0.32941176 0.38431373\n",
            "  0.40784314 0.41176471 0.43921569 0.40392157 0.3372549  0.23529412\n",
            "  0.20392157 0.         0.         0.        ]\n",
            " [0.         0.         0.         0.         0.         0.\n",
            "  0.         0.         0.         0.         0.         0.\n",
            "  0.         0.         0.         0.         0.         0.\n",
            "  0.         0.         0.         0.         0.         0.\n",
            "  0.         0.         0.         0.        ]\n",
            " [0.         0.         0.         0.         0.         0.\n",
            "  0.         0.         0.         0.         0.         0.\n",
            "  0.         0.         0.         0.         0.         0.\n",
            "  0.         0.         0.         0.         0.         0.\n",
            "  0.         0.         0.         0.        ]\n",
            " [0.         0.         0.         0.         0.         0.\n",
            "  0.         0.         0.         0.         0.         0.\n",
            "  0.         0.         0.         0.         0.         0.\n",
            "  0.         0.         0.         0.         0.         0.\n",
            "  0.         0.         0.         0.        ]\n",
            " [0.         0.         0.         0.         0.         0.\n",
            "  0.         0.         0.         0.         0.         0.\n",
            "  0.         0.         0.         0.         0.         0.\n",
            "  0.         0.         0.         0.         0.         0.\n",
            "  0.         0.         0.         0.        ]\n",
            " [0.         0.         0.         0.         0.         0.\n",
            "  0.         0.         0.         0.         0.         0.\n",
            "  0.         0.         0.         0.         0.         0.\n",
            "  0.         0.         0.         0.         0.         0.\n",
            "  0.         0.         0.         0.        ]\n",
            " [0.         0.         0.         0.         0.         0.\n",
            "  0.         0.         0.         0.         0.         0.\n",
            "  0.         0.         0.         0.         0.         0.\n",
            "  0.         0.         0.         0.         0.         0.\n",
            "  0.         0.         0.         0.        ]\n",
            " [0.         0.         0.         0.         0.         0.\n",
            "  0.         0.         0.         0.         0.         0.\n",
            "  0.         0.         0.         0.         0.         0.\n",
            "  0.         0.         0.         0.         0.         0.\n",
            "  0.         0.         0.         0.        ]]\n"
          ],
          "name": "stdout"
        }
      ]
    },
    {
      "cell_type": "code",
      "metadata": {
        "id": "w8zmQK8mJCfI",
        "colab_type": "code",
        "colab": {
          "base_uri": "https://localhost:8080/",
          "height": 187
        },
        "outputId": "e5ec7d84-b5c9-424c-8a65-db3a6e813d8a"
      },
      "source": [
        "model = keras.models.Sequential([\n",
        "  keras.layers.Flatten(input_shape=(28,28)),\n",
        "  keras.layers.Dense(128, activation='relu'),\n",
        "  keras.layers.Dense(10, activation='softmax')\n",
        "])\n",
        "\n",
        "model.compile(optimizer='adam', loss=\"sparse_categorical_crossentropy\", metrics='accuracy')\n",
        "\n",
        "model.fit(train_images, train_labels, epochs= 4)\n",
        "\n",
        "test_loss, test_accu = model.evaluate(test_images, test_labels)\n",
        "\n",
        "print(\"thissss: \", test_accu)\n"
      ],
      "execution_count": 123,
      "outputs": [
        {
          "output_type": "stream",
          "text": [
            "Epoch 1/4\n",
            "1875/1875 [==============================] - 3s 2ms/step - loss: 0.5032 - accuracy: 0.8239\n",
            "Epoch 2/4\n",
            "1875/1875 [==============================] - 3s 2ms/step - loss: 0.3767 - accuracy: 0.8648\n",
            "Epoch 3/4\n",
            "1875/1875 [==============================] - 3s 2ms/step - loss: 0.3377 - accuracy: 0.8775\n",
            "Epoch 4/4\n",
            "1875/1875 [==============================] - 3s 2ms/step - loss: 0.3121 - accuracy: 0.8859\n",
            "313/313 [==============================] - 0s 1ms/step - loss: 0.3447 - accuracy: 0.8778\n",
            "thissss:  0.8777999877929688\n"
          ],
          "name": "stdout"
        }
      ]
    },
    {
      "cell_type": "code",
      "metadata": {
        "id": "2sAPgkyz-Q3Z",
        "colab_type": "code",
        "colab": {
          "base_uri": "https://localhost:8080/",
          "height": 265
        },
        "outputId": "95591220-cef2-44d8-f633-43fe5ad0339f"
      },
      "source": [
        "rand_value = random.randint(0, 10000)\n",
        "plt.imshow(test_images[rand_value], cmap=plt.cm.binary)\n",
        "plt.show()"
      ],
      "execution_count": 124,
      "outputs": [
        {
          "output_type": "display_data",
          "data": {
            "image/png": "[encoded data removed]",
            "text/plain": [
              "<Figure size 432x288 with 1 Axes>"
            ]
          },
          "metadata": {
            "tags": [],
            "needs_background": "light"
          }
        }
      ]
    }
  ]
}