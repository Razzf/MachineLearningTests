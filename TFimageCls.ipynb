{
  "nbformat": 4,
  "nbformat_minor": 0,
  "metadata": {
    "colab": {
      "name": "TFimageCls.ipynb",
      "provenance": [],
      "collapsed_sections": [],
      "authorship_tag": "ABX9TyNChjBjYzvkEYW2ioVaFI7M",
      "include_colab_link": true
    },
    "kernelspec": {
      "name": "python3",
      "display_name": "Python 3"
    }
  },
  "cells": [
    {
      "cell_type": "markdown",
      "metadata": {
        "id": "view-in-github",
        "colab_type": "text"
      },
      "source": [
        "<a href=\"https://colab.research.google.com/github/Razzf/MachineLearningTests/blob/master/TFimageCls.ipynb\" target=\"_parent\"><img src=\"https://colab.research.google.com/assets/colab-badge.svg\" alt=\"Open In Colab\"/></a>"
      ]
    },
    {
      "cell_type": "code",
      "metadata": {
        "id": "b63PLLOC0lBi",
        "colab_type": "code",
        "colab": {}
      },
      "source": [
        "import tensorflow as tf\n",
        "from tensorflow import keras\n",
        "import numpy as np\n",
        "import matplotlib.pyplot as plt\n",
        "from random import randint\n"
      ],
      "execution_count": 0,
      "outputs": []
    },
    {
      "cell_type": "code",
      "metadata": {
        "id": "B81ffrrt11kP",
        "colab_type": "code",
        "colab": {}
      },
      "source": [
        "data = keras.datasets.fashion_mnist\n",
        "(train_images, train_labels), (test_images, test_labels) = data.load_data()\n",
        "\n",
        "class_names = ['T-shirt/top', 'Trouser', 'Pullover', 'Dress', 'Coat',\n",
        "               'Sandal', 'Shirt', 'Sneaker', 'Bag', 'Ankle boot']\n",
        "\n",
        "#for label in test_labels:\n",
        "#  print(class_names[label])"
      ],
      "execution_count": 0,
      "outputs": []
    },
    {
      "cell_type": "code",
      "metadata": {
        "id": "NuUeYpcq8RWw",
        "colab_type": "code",
        "outputId": "d1838d64-35c7-477c-833f-3f631d244a67",
        "colab": {
          "base_uri": "https://localhost:8080/",
          "height": 1000
        }
      },
      "source": [
        "rand_value = randint(0, 10000)\n",
        "\n",
        "\n",
        "train_images = train_images/255.0\n",
        "test_images = test_images/255.0\n",
        "\n",
        "print(train_images[rand_value])\n",
        "\n"
      ],
      "execution_count": 54,
      "outputs": [
        {
          "output_type": "stream",
          "text": [
            "[[0.         0.         0.         0.         0.         0.\n",
            "  0.         0.         0.00392157 0.         0.         0.\n",
            "  0.19607843 0.76862745 0.54901961 0.61960784 0.45882353 0.\n",
            "  0.         0.         0.00784314 0.00392157 0.         0.\n",
            "  0.         0.         0.         0.        ]\n",
            " [0.         0.         0.         0.         0.         0.\n",
            "  0.00392157 0.         0.         0.         0.00784314 0.34901961\n",
            "  0.76078431 0.76470588 0.35294118 0.6627451  0.84705882 0.51372549\n",
            "  0.00392157 0.         0.         0.         0.01176471 0.\n",
            "  0.         0.         0.         0.        ]\n",
            " [0.         0.         0.         0.         0.00392157 0.00392157\n",
            "  0.         0.         0.09803922 0.52941176 0.82352941 0.71764706\n",
            "  0.64705882 0.68627451 0.58823529 0.70196078 0.69803922 0.72156863\n",
            "  0.87843137 0.64313725 0.23921569 0.         0.         0.00392157\n",
            "  0.         0.         0.         0.        ]\n",
            " [0.         0.         0.         0.         0.00392157 0.\n",
            "  0.         0.65098039 0.70588235 0.70588235 0.64313725 0.62352941\n",
            "  0.61960784 0.63137255 0.65882353 0.63137255 0.62745098 0.64705882\n",
            "  0.64705882 0.70196078 0.74117647 0.61960784 0.1254902  0.\n",
            "  0.         0.         0.         0.        ]\n",
            " [0.         0.         0.         0.         0.00392157 0.\n",
            "  0.42352941 0.73333333 0.63529412 0.64705882 0.63529412 0.65882353\n",
            "  0.63529412 0.65882353 0.61960784 0.63529412 0.62745098 0.65490196\n",
            "  0.64705882 0.63529412 0.63529412 0.70196078 0.6627451  0.\n",
            "  0.         0.         0.         0.        ]\n",
            " [0.         0.         0.         0.         0.         0.\n",
            "  0.58039216 0.69803922 0.65098039 0.64705882 0.6627451  0.6627451\n",
            "  0.63137255 0.65882353 0.58823529 0.63137255 0.65882353 0.65490196\n",
            "  0.65882353 0.6745098  0.6745098  0.65098039 0.78823529 0.18431373\n",
            "  0.         0.         0.         0.        ]\n",
            " [0.         0.         0.         0.         0.         0.\n",
            "  0.65882353 0.70980392 0.63529412 0.63529412 0.64313725 0.62352941\n",
            "  0.62745098 0.64313725 0.65098039 0.64705882 0.63137255 0.65098039\n",
            "  0.65882353 0.6627451  0.61960784 0.69803922 0.77254902 0.41568627\n",
            "  0.         0.         0.         0.        ]\n",
            " [0.         0.         0.         0.         0.         0.17254902\n",
            "  0.72941176 0.72941176 0.66666667 0.62352941 0.64313725 0.63137255\n",
            "  0.63529412 0.6627451  0.65490196 0.65882353 0.65490196 0.65882353\n",
            "  0.65490196 0.65882353 0.63137255 0.70196078 0.76078431 0.62745098\n",
            "  0.         0.         0.         0.        ]\n",
            " [0.         0.         0.         0.         0.         0.40784314\n",
            "  0.71764706 0.74117647 0.75686275 0.63137255 0.65098039 0.64705882\n",
            "  0.65490196 0.69411765 0.57647059 0.64313725 0.65098039 0.64705882\n",
            "  0.65098039 0.65490196 0.65882353 0.75686275 0.73333333 0.74117647\n",
            "  0.         0.         0.         0.        ]\n",
            " [0.         0.         0.         0.         0.         0.56078431\n",
            "  0.70980392 0.75686275 0.78823529 0.65490196 0.63529412 0.65098039\n",
            "  0.6745098  0.6745098  0.6745098  0.65098039 0.6745098  0.6745098\n",
            "  0.63137255 0.6745098  0.74509804 0.78039216 0.70980392 0.81568627\n",
            "  0.         0.         0.         0.        ]\n",
            " [0.         0.         0.         0.         0.         0.69019608\n",
            "  0.68235294 0.74117647 0.80784314 0.68235294 0.7254902  0.65882353\n",
            "  0.6627451  0.67058824 0.6627451  0.67058824 0.6627451  0.6745098\n",
            "  0.69411765 0.7372549  0.7372549  0.84313725 0.69803922 0.84705882\n",
            "  0.13333333 0.         0.         0.        ]\n",
            " [0.         0.         0.         0.         0.         0.7372549\n",
            "  0.67058824 0.76862745 0.8627451  0.7372549  0.71764706 0.68235294\n",
            "  0.64705882 0.68235294 0.62745098 0.65882353 0.67058824 0.68627451\n",
            "  0.69019608 0.74509804 0.72941176 0.82745098 0.69411765 0.84313725\n",
            "  0.28627451 0.         0.         0.        ]\n",
            " [0.         0.         0.         0.         0.04313725 0.91372549\n",
            "  0.71764706 0.78823529 0.87843137 0.69019608 0.68627451 0.69411765\n",
            "  0.68235294 0.69411765 0.62745098 0.6627451  0.68235294 0.69411765\n",
            "  0.6627451  0.70588235 0.79215686 0.88235294 0.72156863 0.85098039\n",
            "  0.3372549  0.         0.         0.        ]\n",
            " [0.         0.         0.         0.         0.19215686 0.8627451\n",
            "  0.7372549  0.78039216 0.87843137 0.65882353 0.68627451 0.69019608\n",
            "  0.66666667 0.68235294 0.68627451 0.66666667 0.67058824 0.66666667\n",
            "  0.68235294 0.69411765 0.79215686 0.93333333 0.75686275 0.85098039\n",
            "  0.34509804 0.         0.         0.        ]\n",
            " [0.         0.         0.         0.         0.30196078 0.82352941\n",
            "  0.73333333 0.77647059 0.91372549 0.67058824 0.71764706 0.68235294\n",
            "  0.63529412 0.68235294 0.69411765 0.69803922 0.69019608 0.67058824\n",
            "  0.68235294 0.65490196 0.7372549  0.86666667 0.71764706 0.78039216\n",
            "  0.43137255 0.         0.         0.        ]\n",
            " [0.         0.         0.         0.         0.3372549  0.81568627\n",
            "  0.69803922 0.93333333 0.55686275 0.58823529 0.70980392 0.6\n",
            "  0.6627451  0.73333333 0.58823529 0.6627451  0.70980392 0.69411765\n",
            "  0.71764706 0.72156863 0.54117647 0.80392157 0.63137255 0.76470588\n",
            "  0.43921569 0.         0.         0.        ]\n",
            " [0.         0.         0.         0.         0.36078431 0.81568627\n",
            "  0.66666667 0.95686275 0.29019608 0.58039216 0.7254902  0.69803922\n",
            "  0.68627451 0.68627451 0.6745098  0.67058824 0.69019608 0.6745098\n",
            "  0.69803922 0.72156863 0.41960784 0.89803922 0.76470588 0.80392157\n",
            "  0.43529412 0.         0.         0.        ]\n",
            " [0.         0.         0.         0.         0.41176471 0.79607843\n",
            "  0.65490196 0.85098039 0.15686275 0.72941176 0.65098039 0.69803922\n",
            "  0.65882353 0.70196078 0.70588235 0.70588235 0.69019608 0.68235294\n",
            "  0.67058824 0.75294118 0.47843137 0.78039216 0.68235294 0.81176471\n",
            "  0.43529412 0.         0.         0.        ]\n",
            " [0.         0.         0.         0.         0.4        0.78823529\n",
            "  0.68627451 0.88627451 0.09411765 0.78039216 0.60784314 0.60784314\n",
            "  0.69019608 0.71764706 0.66666667 0.70196078 0.70588235 0.70588235\n",
            "  0.65882353 0.79215686 0.43529412 0.74117647 0.72941176 0.82352941\n",
            "  0.43921569 0.         0.         0.        ]\n",
            " [0.         0.         0.         0.         0.41960784 0.83921569\n",
            "  0.69019608 0.80784314 0.16078431 0.79607843 0.70980392 0.73333333\n",
            "  0.74117647 0.72156863 0.62745098 0.68627451 0.70980392 0.69803922\n",
            "  0.61568627 0.82745098 0.31372549 0.69411765 0.76078431 0.77254902\n",
            "  0.44313725 0.         0.         0.        ]\n",
            " [0.         0.         0.         0.         0.36470588 0.72941176\n",
            "  0.69411765 0.7372549  0.18823529 0.85098039 0.70980392 0.76470588\n",
            "  0.72156863 0.70196078 0.70980392 0.71764706 0.72156863 0.72941176\n",
            "  0.69019608 0.86666667 0.26666667 0.65098039 0.75686275 0.80784314\n",
            "  0.40392157 0.         0.         0.        ]\n",
            " [0.         0.         0.         0.         0.32941176 0.70588235\n",
            "  0.72941176 0.65490196 0.11764706 0.87058824 0.65490196 0.74509804\n",
            "  0.73333333 0.74117647 0.70980392 0.72941176 0.75294118 0.71764706\n",
            "  0.68627451 0.89803922 0.16078431 0.58431373 0.74117647 0.74117647\n",
            "  0.37254902 0.         0.         0.        ]\n",
            " [0.         0.         0.         0.         0.21960784 0.7254902\n",
            "  0.78039216 0.49411765 0.09411765 0.92941176 0.65098039 0.6627451\n",
            "  0.61960784 0.69803922 0.56470588 0.6745098  0.7254902  0.74509804\n",
            "  0.6627451  0.87843137 0.2627451  0.52941176 0.75686275 0.7372549\n",
            "  0.23529412 0.         0.         0.        ]\n",
            " [0.         0.         0.         0.         0.         0.72941176\n",
            "  0.77647059 0.41568627 0.16470588 0.90196078 0.6        0.62745098\n",
            "  0.70980392 0.76470588 0.75686275 0.70588235 0.65882353 0.66666667\n",
            "  0.67058824 0.88627451 0.29019608 0.46666667 0.78823529 0.75294118\n",
            "  0.09019608 0.         0.         0.        ]\n",
            " [0.         0.         0.         0.         0.         0.67058824\n",
            "  0.79215686 0.30588235 0.19607843 0.84313725 0.6627451  0.72941176\n",
            "  0.74117647 0.68627451 0.66666667 0.70196078 0.71764706 0.68627451\n",
            "  0.67058824 0.83921569 0.28627451 0.50588235 0.76470588 0.69411765\n",
            "  0.         0.         0.         0.        ]\n",
            " [0.         0.         0.         0.         0.05098039 0.7254902\n",
            "  0.86666667 0.43529412 0.22352941 0.79607843 0.69411765 0.70588235\n",
            "  0.63529412 0.64313725 0.69803922 0.6745098  0.71764706 0.70980392\n",
            "  0.68627451 0.75686275 0.30588235 0.76078431 0.81568627 0.72156863\n",
            "  0.         0.         0.         0.        ]\n",
            " [0.         0.         0.         0.         0.02352941 0.44313725\n",
            "  0.57647059 0.16862745 0.01176471 0.80784314 0.71764706 0.81176471\n",
            "  0.78039216 0.80392157 0.82745098 0.76470588 0.80784314 0.83921569\n",
            "  0.75686275 1.         0.16470588 0.00392157 0.22745098 0.24313725\n",
            "  0.         0.         0.         0.        ]\n",
            " [0.         0.         0.         0.         0.         0.\n",
            "  0.         0.         0.         0.         0.09019608 0.22352941\n",
            "  0.30196078 0.40784314 0.57254902 0.55294118 0.47058824 0.40392157\n",
            "  0.3372549  0.12941176 0.         0.         0.         0.\n",
            "  0.         0.         0.         0.        ]]\n"
          ],
          "name": "stdout"
        }
      ]
    },
    {
      "cell_type": "code",
      "metadata": {
        "id": "w8zmQK8mJCfI",
        "colab_type": "code",
        "outputId": "39ff69c5-258e-43f3-eb0f-df372b31b66c",
        "colab": {
          "base_uri": "https://localhost:8080/",
          "height": 187
        }
      },
      "source": [
        "model = keras.models.Sequential([\n",
        "  keras.layers.Flatten(input_shape=(28,28)),\n",
        "  keras.layers.Dense(128, activation='relu'),\n",
        "  keras.layers.Dense(10, activation='softmax')\n",
        "])\n",
        "\n",
        "model.compile(optimizer='adam', loss=\"sparse_categorical_crossentropy\", metrics='accuracy')\n",
        "\n",
        "model.fit(train_images, train_labels, epochs= 4)\n",
        "\n",
        "test_loss, test_accu = model.evaluate(test_images, test_labels)\n",
        "\n",
        "print(\"Accuracy: \", test_accu)\n"
      ],
      "execution_count": 55,
      "outputs": [
        {
          "output_type": "stream",
          "text": [
            "Epoch 1/4\n",
            "1875/1875 [==============================] - 3s 2ms/step - loss: 0.4965 - accuracy: 0.8249\n",
            "Epoch 2/4\n",
            "1875/1875 [==============================] - 3s 2ms/step - loss: 0.3736 - accuracy: 0.8654\n",
            "Epoch 3/4\n",
            "1875/1875 [==============================] - 3s 2ms/step - loss: 0.3358 - accuracy: 0.8781\n",
            "Epoch 4/4\n",
            "1875/1875 [==============================] - 3s 2ms/step - loss: 0.3119 - accuracy: 0.8851\n",
            "313/313 [==============================] - 0s 1ms/step - loss: 0.3603 - accuracy: 0.8722\n",
            "Accuracy:  0.8722000122070312\n"
          ],
          "name": "stdout"
        }
      ]
    },
    {
      "cell_type": "code",
      "metadata": {
        "id": "mf0XJ4xwW92o",
        "colab_type": "code",
        "colab": {
          "base_uri": "https://localhost:8080/",
          "height": 295
        },
        "outputId": "c0e86a76-984e-4afd-8d44-f614c938a263"
      },
      "source": [
        "prediction = model.predict(test_images)\n",
        "\n",
        "rand_value = randint(0, 9999)\n",
        "\n",
        "plt.grid(False)\n",
        "plt.imshow(test_images[rand_value], cmap=plt.cm.binary)\n",
        "plt.title(\"Actual: \" + class_names[test_labels[rand_value]])\n",
        "plt.xlabel('Prediction: ' + class_names[np.argmax(prediction[rand_value])])\n",
        "plt.show()\n"
      ],
      "execution_count": 56,
      "outputs": [
        {
          "output_type": "display_data",
          "data": {
            "image/png": "[encoded data removed]",
            "text/plain": [
              "<Figure size 432x288 with 1 Axes>"
            ]
          },
          "metadata": {
            "tags": [],
            "needs_background": "light"
          }
        }
      ]
    }
  ]
}