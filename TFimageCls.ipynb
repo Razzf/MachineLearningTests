{
  "nbformat": 4,
  "nbformat_minor": 0,
  "metadata": {
    "colab": {
      "name": "TFimageCls.ipynb",
      "provenance": [],
      "collapsed_sections": [],
      "authorship_tag": "ABX9TyPs6dNAG0RLQgOFCktbBfVW",
      "include_colab_link": true
    },
    "kernelspec": {
      "name": "python3",
      "display_name": "Python 3"
    }
  },
  "cells": [
    {
      "cell_type": "markdown",
      "metadata": {
        "id": "view-in-github",
        "colab_type": "text"
      },
      "source": [
        "<a href=\"https://colab.research.google.com/github/Razzf/MachineLearningTests/blob/master/TFimageCls.ipynb\" target=\"_parent\"><img src=\"https://colab.research.google.com/assets/colab-badge.svg\" alt=\"Open In Colab\"/></a>"
      ]
    },
    {
      "cell_type": "code",
      "metadata": {
        "id": "b63PLLOC0lBi",
        "colab_type": "code",
        "colab": {}
      },
      "source": [
        "import tensorflow as tf\n",
        "from tensorflow import keras\n",
        "import numpy as np\n",
        "import matplotlib.pyplot as plt\n",
        "import random\n"
      ],
      "execution_count": 0,
      "outputs": []
    },
    {
      "cell_type": "code",
      "metadata": {
        "id": "3J72g8RX1ie-",
        "colab_type": "code",
        "colab": {
          "base_uri": "https://localhost:8080/",
          "height": 34
        },
        "outputId": "869e2d34-37ba-4ede-b41b-594d95c9584c"
      },
      "source": [
        "print(tf.__version__)"
      ],
      "execution_count": 104,
      "outputs": [
        {
          "output_type": "stream",
          "text": [
            "2.2.0-rc4\n"
          ],
          "name": "stdout"
        }
      ]
    },
    {
      "cell_type": "code",
      "metadata": {
        "id": "B81ffrrt11kP",
        "colab_type": "code",
        "colab": {}
      },
      "source": [
        "data = keras.datasets.fashion_mnist\n",
        "(train_images, train_labels), (test_images, test_labels) = data.load_data()\n",
        "\n",
        "class_names = ['T-shirt/top', 'Trouser', 'Pullover', 'Dress', 'Coat',\n",
        "               'Sandal', 'Shirt', 'Sneaker', 'Bag', 'Ankle boot']\n",
        "\n",
        "#for label in test_labels:\n",
        "#  print(class_names[label])"
      ],
      "execution_count": 0,
      "outputs": []
    },
    {
      "cell_type": "code",
      "metadata": {
        "id": "NuUeYpcq8RWw",
        "colab_type": "code",
        "colab": {
          "base_uri": "https://localhost:8080/",
          "height": 1000
        },
        "outputId": "fb645608-5a97-4a0f-c63d-61210bd55709"
      },
      "source": [
        "rand_value = random.randint(0, 10000)\n",
        "\n",
        "\n",
        "train_images = train_images/255.0\n",
        "test_images = test_images/255.0\n",
        "\n",
        "print(train_images[rand_value])\n",
        "\n"
      ],
      "execution_count": 106,
      "outputs": [
        {
          "output_type": "stream",
          "text": [
            "[[0.         0.         0.         0.         0.         0.\n",
            "  0.         0.         0.         0.         0.         0.\n",
            "  0.         0.         0.         0.         0.         0.\n",
            "  0.         0.         0.         0.         0.         0.\n",
            "  0.         0.         0.         0.        ]\n",
            " [0.         0.         0.         0.         0.         0.\n",
            "  0.         0.         0.         0.         0.         0.\n",
            "  0.         0.         0.         0.         0.         0.\n",
            "  0.         0.         0.         0.         0.         0.\n",
            "  0.         0.         0.         0.        ]\n",
            " [0.         0.         0.         0.         0.         0.\n",
            "  0.         0.         0.05098039 0.22352941 0.47843137 0.2\n",
            "  0.14509804 0.10196078 0.14509804 0.16470588 0.50980392 0.55294118\n",
            "  0.03137255 0.05098039 0.         0.         0.         0.\n",
            "  0.         0.         0.         0.        ]\n",
            " [0.         0.         0.         0.         0.         0.\n",
            "  0.15686275 0.37254902 0.29411765 0.31372549 0.88627451 0.85490196\n",
            "  0.84313725 1.         0.90588235 0.80784314 0.90980392 0.56862745\n",
            "  0.21568627 0.4627451  0.35686275 0.0627451  0.         0.\n",
            "  0.         0.         0.         0.        ]\n",
            " [0.         0.         0.         0.         0.         0.28235294\n",
            "  0.41176471 0.22745098 0.23529412 0.0627451  0.30196078 0.73333333\n",
            "  0.80392157 0.79215686 0.79215686 0.76862745 0.52156863 0.04705882\n",
            "  0.17647059 0.16862745 0.29803922 0.43921569 0.12941176 0.\n",
            "  0.         0.         0.         0.        ]\n",
            " [0.00392157 0.         0.         0.         0.27843137 0.4\n",
            "  0.14509804 0.19607843 0.19607843 0.18823529 0.08235294 0.14117647\n",
            "  0.49411765 0.61568627 0.59215686 0.32156863 0.05882353 0.17647059\n",
            "  0.20392157 0.24313725 0.14901961 0.18431373 0.40392157 0.18431373\n",
            "  0.         0.         0.         0.        ]\n",
            " [0.00392157 0.         0.         0.24313725 0.33333333 0.19607843\n",
            "  0.26666667 0.23529412 0.20392157 0.18823529 0.18039216 0.31764706\n",
            "  0.16470588 0.1372549  0.1372549  0.24313725 0.2745098  0.16862745\n",
            "  0.2        0.18823529 0.22352941 0.16078431 0.14509804 0.39215686\n",
            "  0.14117647 0.         0.00392157 0.        ]\n",
            " [0.         0.         0.1372549  0.37254902 0.23529412 0.22745098\n",
            "  0.20392157 0.24313725 0.21960784 0.20392157 0.15686275 0.35686275\n",
            "  0.69411765 0.51372549 0.4745098  0.28235294 0.23529412 0.2\n",
            "  0.20392157 0.22745098 0.25882353 0.23921569 0.18039216 0.20392157\n",
            "  0.3372549  0.00392157 0.         0.        ]\n",
            " [0.         0.         0.21960784 0.25490196 0.14901961 0.19607843\n",
            "  0.18823529 0.18823529 0.18431373 0.19607843 0.17647059 0.26666667\n",
            "  0.45098039 0.5372549  0.43921569 0.33333333 0.24705882 0.15686275\n",
            "  0.2        0.19607843 0.21568627 0.23921569 0.20392157 0.19607843\n",
            "  0.2627451  0.12156863 0.         0.        ]\n",
            " [0.         0.05098039 0.25490196 0.16078431 0.17647059 0.28627451\n",
            "  0.21960784 0.1372549  0.18431373 0.17647059 0.20784314 0.31372549\n",
            "  0.11764706 0.16862745 0.17647059 0.29803922 0.2745098  0.16078431\n",
            "  0.17647059 0.18823529 0.18039216 0.18039216 0.20392157 0.20784314\n",
            "  0.2        0.23921569 0.04705882 0.        ]\n",
            " [0.         0.19607843 0.20784314 0.14509804 0.20784314 0.34117647\n",
            "  0.25882353 0.10980392 0.16078431 0.17647059 0.10980392 0.31764706\n",
            "  0.61176471 0.32156863 0.43921569 0.57254902 0.15686275 0.14509804\n",
            "  0.16078431 0.18431373 0.22745098 0.18431373 0.20784314 0.2\n",
            "  0.18823529 0.22745098 0.20392157 0.        ]\n",
            " [0.04313725 0.22745098 0.15686275 0.18431373 0.18039216 0.38039216\n",
            "  0.3372549  0.14117647 0.16470588 0.16470588 0.14901961 0.24705882\n",
            "  0.31764706 0.33333333 0.2745098  0.26666667 0.24705882 0.16470588\n",
            "  0.14901961 0.12941176 0.25490196 0.27843137 0.21568627 0.21960784\n",
            "  0.18823529 0.18431373 0.23921569 0.15686275]\n",
            " [0.17647059 0.22745098 0.16078431 0.15686275 0.21960784 0.47058824\n",
            "  0.31372549 0.14117647 0.20784314 0.18039216 0.18823529 0.41960784\n",
            "  0.12941176 0.3372549  0.28627451 0.21568627 0.29411765 0.16470588\n",
            "  0.14901961 0.17647059 0.4745098  0.40392157 0.23529412 0.18823529\n",
            "  0.16470588 0.22352941 0.22352941 0.09019608]\n",
            " [0.00784314 0.12941176 0.22745098 0.26666667 0.28235294 0.57254902\n",
            "  0.22745098 0.11764706 0.2627451  0.12941176 0.12941176 0.41568627\n",
            "  0.24313725 0.37254902 0.42352941 0.34117647 0.25490196 0.14117647\n",
            "  0.18431373 0.19607843 0.42352941 0.32156863 0.35294118 0.22352941\n",
            "  0.26666667 0.2        0.02352941 0.        ]\n",
            " [0.         0.         0.01960784 0.14117647 0.29803922 0.52941176\n",
            "  0.10980392 0.17647059 0.24313725 0.12941176 0.14509804 0.24705882\n",
            "  0.37254902 0.45098039 0.41176471 0.3254902  0.22745098 0.16862745\n",
            "  0.18823529 0.18431373 0.18039216 0.1372549  0.45882353 0.26666667\n",
            "  0.11764706 0.         0.         0.        ]\n",
            " [0.         0.         0.         0.         0.         0.00392157\n",
            "  0.         0.2627451  0.21960784 0.12156863 0.18823529 0.29411765\n",
            "  0.25882353 0.30588235 0.25882353 0.31764706 0.23921569 0.15686275\n",
            "  0.14901961 0.18039216 0.19607843 0.         0.02745098 0.\n",
            "  0.         0.         0.         0.        ]\n",
            " [0.         0.         0.         0.         0.00392157 0.\n",
            "  0.07058824 0.24313725 0.14117647 0.12941176 0.14901961 0.35686275\n",
            "  0.12941176 0.19607843 0.24705882 0.28627451 0.29411765 0.1254902\n",
            "  0.17647059 0.16470588 0.20392157 0.         0.         0.\n",
            "  0.         0.         0.00392157 0.        ]\n",
            " [0.         0.         0.00392157 0.00392157 0.         0.\n",
            "  0.09803922 0.23529412 0.14117647 0.15686275 0.12156863 0.2627451\n",
            "  0.41176471 0.33333333 0.43137255 0.48235294 0.19607843 0.16470588\n",
            "  0.14509804 0.15686275 0.21568627 0.01960784 0.         0.\n",
            "  0.         0.         0.         0.        ]\n",
            " [0.         0.         0.         0.00392157 0.         0.\n",
            "  0.09019608 0.21568627 0.11764706 0.12156863 0.19607843 0.29803922\n",
            "  0.29803922 0.33333333 0.26666667 0.30196078 0.29411765 0.1372549\n",
            "  0.15686275 0.14509804 0.2        0.02745098 0.         0.\n",
            "  0.         0.         0.         0.        ]\n",
            " [0.         0.         0.         0.         0.         0.\n",
            "  0.10588235 0.20784314 0.12941176 0.14509804 0.16862745 0.31372549\n",
            "  0.07843137 0.14509804 0.21568627 0.21568627 0.33333333 0.11764706\n",
            "  0.14509804 0.12941176 0.18431373 0.06666667 0.         0.\n",
            "  0.         0.         0.         0.        ]\n",
            " [0.         0.00392157 0.         0.         0.         0.\n",
            "  0.09803922 0.18431373 0.12941176 0.1372549  0.14117647 0.22745098\n",
            "  0.35686275 0.4627451  0.35294118 0.49803922 0.26666667 0.12156863\n",
            "  0.14117647 0.1254902  0.17647059 0.08627451 0.         0.\n",
            "  0.         0.         0.         0.        ]\n",
            " [0.         0.         0.         0.         0.         0.\n",
            "  0.10980392 0.18039216 0.1254902  0.16470588 0.19607843 0.25882353\n",
            "  0.39607843 0.39215686 0.30196078 0.44313725 0.20392157 0.16078431\n",
            "  0.12941176 0.1254902  0.16470588 0.10980392 0.         0.\n",
            "  0.         0.         0.         0.        ]\n",
            " [0.         0.         0.         0.00392157 0.         0.\n",
            "  0.10980392 0.16470588 0.12156863 0.12941176 0.16862745 0.25882353\n",
            "  0.10196078 0.25490196 0.3372549  0.45490196 0.23529412 0.12156863\n",
            "  0.1254902  0.11764706 0.14509804 0.10980392 0.         0.\n",
            "  0.         0.         0.         0.        ]\n",
            " [0.         0.         0.         0.         0.         0.\n",
            "  0.11764706 0.19607843 0.15686275 0.18039216 0.15686275 0.17647059\n",
            "  0.28627451 0.32156863 0.26666667 0.31764706 0.18823529 0.15686275\n",
            "  0.16470588 0.14117647 0.18039216 0.14117647 0.         0.\n",
            "  0.         0.         0.00392157 0.        ]\n",
            " [0.         0.         0.         0.         0.         0.\n",
            "  0.11764706 0.18431373 0.14117647 0.14901961 0.16078431 0.16078431\n",
            "  0.16862745 0.2        0.1372549  0.10980392 0.11764706 0.15686275\n",
            "  0.1372549  0.10588235 0.14901961 0.12941176 0.         0.\n",
            "  0.         0.         0.         0.        ]\n",
            " [0.         0.         0.         0.         0.         0.\n",
            "  0.11764706 0.17647059 0.14901961 0.16470588 0.16078431 0.14509804\n",
            "  0.1372549  0.12156863 0.10980392 0.10980392 0.1254902  0.15686275\n",
            "  0.15686275 0.12156863 0.16862745 0.12941176 0.         0.\n",
            "  0.         0.         0.         0.        ]\n",
            " [0.         0.         0.         0.         0.         0.\n",
            "  0.04313725 0.1254902  0.09803922 0.07058824 0.07843137 0.07843137\n",
            "  0.08235294 0.07843137 0.07843137 0.08235294 0.07843137 0.08235294\n",
            "  0.08627451 0.05882353 0.08235294 0.02745098 0.         0.\n",
            "  0.         0.         0.         0.        ]\n",
            " [0.         0.         0.         0.         0.         0.\n",
            "  0.         0.         0.         0.         0.         0.\n",
            "  0.         0.         0.         0.         0.         0.\n",
            "  0.         0.         0.         0.         0.         0.\n",
            "  0.         0.         0.         0.        ]]\n"
          ],
          "name": "stdout"
        }
      ]
    },
    {
      "cell_type": "code",
      "metadata": {
        "id": "2sAPgkyz-Q3Z",
        "colab_type": "code",
        "colab": {
          "base_uri": "https://localhost:8080/",
          "height": 265
        },
        "outputId": "a63da02c-86fa-42a4-b827-1056a6204bab"
      },
      "source": [
        "rand_value = random.randint(0, 10000)\n",
        "plt.imshow(test_images[rand_value], cmap=plt.cm.binary)\n",
        "plt.show()"
      ],
      "execution_count": 113,
      "outputs": [
        {
          "output_type": "display_data",
          "data": {
            "image/png": "[encoded data removed]",
            "text/plain": [
              "<Figure size 432x288 with 1 Axes>"
            ]
          },
          "metadata": {
            "tags": [],
            "needs_background": "light"
          }
        }
      ]
    }
  ]
}