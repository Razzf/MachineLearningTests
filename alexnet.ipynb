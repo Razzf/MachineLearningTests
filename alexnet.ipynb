{
  "nbformat": 4,
  "nbformat_minor": 0,
  "metadata": {
    "colab": {
      "name": "alexnet.ipynb",
      "provenance": [],
      "collapsed_sections": [],
      "mount_file_id": "1DKZtKw3LU4K3SYVzizSHXerywHIAAJ3J",
      "authorship_tag": "ABX9TyOKe1Nbcf7jsaoP8CiuKNED",
      "include_colab_link": true
    },
    "kernelspec": {
      "name": "python3",
      "display_name": "Python 3"
    },
    "accelerator": "TPU"
  },
  "cells": [
    {
      "cell_type": "markdown",
      "metadata": {
        "id": "view-in-github",
        "colab_type": "text"
      },
      "source": [
        "<a href=\"https://colab.research.google.com/github/Razzf/MachineLearningTests/blob/master/alexnet.ipynb\" target=\"_parent\"><img src=\"https://colab.research.google.com/assets/colab-badge.svg\" alt=\"Open In Colab\"/></a>"
      ]
    },
    {
      "cell_type": "code",
      "metadata": {
        "id": "9_2x7aEqK18p",
        "colab_type": "code",
        "colab": {}
      },
      "source": [
        "import numpy as np\n",
        "import os\n",
        "import cv2\n",
        "import random\n",
        "from IPython.display import clear_output\n",
        "from google.colab.patches import cv2_imshow\n",
        "\n",
        "from sklearn import model_selection\n",
        "\n",
        "import tensorflow as tf\n",
        "from tensorflow.keras.layers import Dense, Activation, BatchNormalization, Dropout, Flatten, Conv2D, MaxPooling2D\n",
        "from tensorflow.keras.models import Sequential\n",
        "\n"
      ],
      "execution_count": null,
      "outputs": []
    },
    {
      "cell_type": "code",
      "metadata": {
        "id": "L7KxnB4NLcS4",
        "colab_type": "code",
        "colab": {}
      },
      "source": [
        "DATADIR = \"/content/drive/My Drive/color\"\n",
        "CATEGORIES = [\"Apple___Apple_scab\", \"Apple___Black_rot\", \"Apple___Cedar_apple_rust\",\n",
        "              \"Apple___healthy\", \"Blueberry___healthy\", \"Cherry_(including_sour)___Powdery_mildew\",\n",
        "              \"Cherry_(including_sour)___healthy\", \"Corn_(maize)___Cercospora_leaf_spot Gray_leaf_spot\",\n",
        "              \"Corn_(maize)___Common_rust_\", \"Corn_(maize)___Northern_Leaf_Blight\", \"Corn_(maize)___healthy\",\n",
        "              \"Grape___Black_rot\", \"Grape___Esca_(Black_Measles)\", \"Grape___Leaf_blight_(Isariopsis_Leaf_Spot)\",\n",
        "              \"Grape___healthy\", \"Orange___Haunglongbing_(Citrus_greening)\", \"Peach___Bacterial_spot\",\n",
        "              \"Peach___healthy\", \"Pepper,_bell___Bacterial_spot\", \"Pepper,_bell___healthy\", \"Potato___Early_blight\",\n",
        "              \"Potato___Late_blight\", \"Potato___healthy\", \"Raspberry___healthy\", \"Soybean___healthy\",\n",
        "              \"Squash___Powdery_mildew\", \"Strawberry___Leaf_scorch\", \"Strawberry___healthy\", \n",
        "              \"Tomato___Bacterial_spot\", \"Tomato___Early_blight\", \"Tomato___Late_blight\", \"Tomato___Leaf_Mold\",\n",
        "              \"Tomato___Septoria_leaf_spot\", \"Tomato___Spider_mites Two-spotted_spider_mite\",\n",
        "              \"Tomato___Target_Spot\", \"Tomato___Tomato_Yellow_Leaf_Curl_Virus\", \"Tomato___Tomato_mosaic_virus\",\n",
        "              \"Tomato___healthy\"]"
      ],
      "execution_count": null,
      "outputs": []
    },
    {
      "cell_type": "code",
      "metadata": {
        "id": "VjC4vs2wbkYD",
        "colab_type": "code",
        "colab": {
          "base_uri": "https://localhost:8080/",
          "height": 54
        },
        "outputId": "3f06775e-cdce-4be9-ba9d-91be63df9c9a"
      },
      "source": [
        "training_data = []\n",
        "counter = 0\n",
        "#CATEGORIES = np.array(CATEGORIES)\n",
        "CATEGORIES = CATEGORIES[28:]\n",
        "print(CATEGORIES)"
      ],
      "execution_count": 42,
      "outputs": [
        {
          "output_type": "stream",
          "text": [
            "['Tomato___Bacterial_spot', 'Tomato___Early_blight', 'Tomato___Late_blight', 'Tomato___Leaf_Mold', 'Tomato___Septoria_leaf_spot', 'Tomato___Spider_mites Two-spotted_spider_mite', 'Tomato___Target_Spot', 'Tomato___Tomato_Yellow_Leaf_Curl_Virus', 'Tomato___Tomato_mosaic_virus', 'Tomato___healthy']\n"
          ],
          "name": "stdout"
        }
      ]
    },
    {
      "cell_type": "code",
      "metadata": {
        "id": "zZXGuNwfU5ib",
        "colab_type": "code",
        "colab": {}
      },
      "source": [
        "IMG_SIZE = 224\n",
        "def create_training_data():\n",
        "  for category in CATEGORIES:\n",
        "    counter = 0\n",
        "    path = os.path.join(DATADIR, category)\n",
        "    class_index = CATEGORIES.index(category)\n",
        "    class_array = [0, 0, 0, 0, 0, 0, 0, 0, 0, 0]\n",
        "    for img in os.listdir(path):\n",
        "      counter = counter + 1\n",
        "      print(class_index, \":\", category, \": image number :\", counter)\n",
        "      class_array[class_index] = 1\n",
        "      img_array = cv2.imread(os.path.join(path, img), cv2.IMREAD_ANYCOLOR)\n",
        "      img_array = cv2.cvtColor(img_array, cv2.COLOR_BGR2RGB)\n",
        "      new_array = cv2.resize(img_array, (IMG_SIZE, IMG_SIZE))\n",
        "      #optional resize (in this case isn't necesary)\n",
        "      training_data.append((new_array, class_array))\n",
        "      if counter % 3 == 0:\n",
        "        clear_output()\n",
        "      if counter > 1000:\n",
        "        break\n",
        "    \n",
        "\n",
        "\n",
        "\n"
      ],
      "execution_count": null,
      "outputs": []
    },
    {
      "cell_type": "code",
      "metadata": {
        "id": "muf10akTbloO",
        "colab_type": "code",
        "colab": {}
      },
      "source": [
        "create_training_data()"
      ],
      "execution_count": null,
      "outputs": []
    },
    {
      "cell_type": "code",
      "metadata": {
        "id": "Fdl-4N7kbmRH",
        "colab_type": "code",
        "colab": {}
      },
      "source": [
        "\n",
        "\n",
        "random.shuffle(training_data)\n",
        "\n",
        "X = []\n",
        "y = []\n",
        "\n",
        "for features,label in training_data:\n",
        "    X.append(features)\n",
        "    y.append(label)\n",
        "\n",
        "\n",
        "\n",
        "X = np.array(X).reshape(-1, IMG_SIZE, IMG_SIZE, 3)\n",
        "y = np.array(y)"
      ],
      "execution_count": null,
      "outputs": []
    },
    {
      "cell_type": "code",
      "metadata": {
        "id": "ZVBZlKhmVH9c",
        "colab_type": "code",
        "colab": {
          "base_uri": "https://localhost:8080/",
          "height": 641
        },
        "outputId": "c4ac01be-637d-4e38-f3ee-730fb1f77d2d"
      },
      "source": [
        "import tensorflow as tf\n",
        "from tensorflow.keras.layers import Dense, Activation, BatchNormalization, Dropout, Flatten, Conv2D, MaxPooling2D, AveragePooling2D\n",
        "from tensorflow.keras.models import Sequential\n",
        "\n",
        "#Instantiate an empty model\n",
        "model = Sequential()\n",
        "\n",
        "# 1st Convolutional Layer\n",
        "model.add(Conv2D(filters=96, input_shape=(IMG_SIZE, IMG_SIZE, 3), kernel_size=(11, 11), strides=(4, 4), padding='valid'))\n",
        "model.add(BatchNormalization())\n",
        "model.add(Activation('relu'))\n",
        "# Max Pooling\n",
        "model.add(MaxPooling2D(pool_size=(2, 2), strides=(2, 2), padding = 'valid'))\n",
        "\n",
        "\n",
        "\n",
        "# 5th Convolutional Layer\n",
        "model.add(Conv2D(filters=256, kernel_size=(3, 3), strides=(1, 1), padding = 'valid'))\n",
        "model.add(BatchNormalization())\n",
        "model.add(Activation('relu'))\n",
        "# Max Pooling\n",
        "model.add(AveragePooling2D(pool_size=(2, 2), strides=(2, 2), padding = 'valid'))\n",
        "\n",
        "# Passing it to a Fully Connected layer\n",
        "model.add(Flatten())\n",
        "# 1st Fully Connected Layer\n",
        "model.add(Dense(4096, input_shape=(224*224*3,)))\n",
        "model.add(Activation('relu'))\n",
        "# Add Dropout to prevent overfitting\n",
        "model.add(Dropout(0.4))\n",
        "\n",
        "# Output Layer\n",
        "model.add(Dense(1000))\n",
        "model.add(Activation('softmax'))\n",
        "\n",
        "model.summary()\n",
        "\n",
        "# Compile the model\n",
        "model.compile(loss=tf.keras.losses.categorical_crossentropy, optimizer='adam', metrics=['accuracy'])\n"
      ],
      "execution_count": 53,
      "outputs": [
        {
          "output_type": "stream",
          "text": [
            "Model: \"sequential_7\"\n",
            "_________________________________________________________________\n",
            "Layer (type)                 Output Shape              Param #   \n",
            "=================================================================\n",
            "conv2d_22 (Conv2D)           (None, 54, 54, 96)        34944     \n",
            "_________________________________________________________________\n",
            "batch_normalization_6 (Batch (None, 54, 54, 96)        384       \n",
            "_________________________________________________________________\n",
            "activation_40 (Activation)   (None, 54, 54, 96)        0         \n",
            "_________________________________________________________________\n",
            "max_pooling2d_12 (MaxPooling (None, 27, 27, 96)        0         \n",
            "_________________________________________________________________\n",
            "conv2d_23 (Conv2D)           (None, 25, 25, 256)       221440    \n",
            "_________________________________________________________________\n",
            "batch_normalization_7 (Batch (None, 25, 25, 256)       1024      \n",
            "_________________________________________________________________\n",
            "activation_41 (Activation)   (None, 25, 25, 256)       0         \n",
            "_________________________________________________________________\n",
            "average_pooling2d_2 (Average (None, 12, 12, 256)       0         \n",
            "_________________________________________________________________\n",
            "flatten_5 (Flatten)          (None, 36864)             0         \n",
            "_________________________________________________________________\n",
            "dense_19 (Dense)             (None, 4096)              150999040 \n",
            "_________________________________________________________________\n",
            "activation_42 (Activation)   (None, 4096)              0         \n",
            "_________________________________________________________________\n",
            "dropout_14 (Dropout)         (None, 4096)              0         \n",
            "_________________________________________________________________\n",
            "dense_20 (Dense)             (None, 1000)              4097000   \n",
            "_________________________________________________________________\n",
            "activation_43 (Activation)   (None, 1000)              0         \n",
            "=================================================================\n",
            "Total params: 155,353,832\n",
            "Trainable params: 155,353,128\n",
            "Non-trainable params: 704\n",
            "_________________________________________________________________\n"
          ],
          "name": "stdout"
        }
      ]
    },
    {
      "cell_type": "code",
      "metadata": {
        "id": "-2HkmhtDfWYs",
        "colab_type": "code",
        "colab": {}
      },
      "source": [
        "print(X[0])\n",
        "print(y[0])"
      ],
      "execution_count": null,
      "outputs": []
    },
    {
      "cell_type": "code",
      "metadata": {
        "id": "ST_AUYdeVjR4",
        "colab_type": "code",
        "colab": {}
      },
      "source": [
        "#x_train, x_test, y_train, y_test = model_selection.train_test_split(X, y, test_size=.2)\n",
        "\n",
        "model.fit(X, y, batch_size=16, epochs=25, validation_split=.2)"
      ],
      "execution_count": null,
      "outputs": []
    }
  ]
}