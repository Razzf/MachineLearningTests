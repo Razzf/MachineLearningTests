{
  "nbformat": 4,
  "nbformat_minor": 0,
  "metadata": {
    "colab": {
      "name": "student-pred.ipynb",
      "provenance": [],
      "collapsed_sections": [],
      "authorship_tag": "ABX9TyMu+0p70L0fTzz3FcS1aw9z",
      "include_colab_link": true
    },
    "kernelspec": {
      "name": "python3",
      "display_name": "Python 3"
    }
  },
  "cells": [
    {
      "cell_type": "markdown",
      "metadata": {
        "id": "view-in-github",
        "colab_type": "text"
      },
      "source": [
        "<a href=\"https://colab.research.google.com/github/Razzf/MachineLearningTests/blob/master/student_pred.ipynb\" target=\"_parent\"><img src=\"https://colab.research.google.com/assets/colab-badge.svg\" alt=\"Open In Colab\"/></a>"
      ]
    },
    {
      "cell_type": "code",
      "metadata": {
        "id": "G93UVk8toVNd",
        "colab_type": "code",
        "colab": {}
      },
      "source": [
        "#Module installer\n",
        "#!pip install -U scikit-learn"
      ],
      "execution_count": 0,
      "outputs": []
    },
    {
      "cell_type": "code",
      "metadata": {
        "id": "DpGZfJzGmVpt",
        "colab_type": "code",
        "colab": {}
      },
      "source": [
        "import numpy as np\n",
        "import pandas as pd\n",
        "import sklearn.model_selection\n",
        "import sklearn.linear_model\n",
        "import sklearn as sk\n",
        "import matplotlib.pyplot as plt\n",
        "from matplotlib import style\n",
        "import pickle\n"
      ],
      "execution_count": 0,
      "outputs": []
    },
    {
      "cell_type": "code",
      "metadata": {
        "id": "ra2oFR4sm1T6",
        "colab_type": "code",
        "colab": {
          "base_uri": "https://localhost:8080/",
          "height": 476
        },
        "outputId": "9001b8fb-059d-4afe-9bb9-f8e7e609fdb9"
      },
      "source": [
        "data = pd.read_csv(\"student-mat.csv\", sep=\";\")\n",
        "data['paid'] = data['paid'].map({'yes':True, 'no':False})\n",
        "data['famsup'] = data['famsup'].map({'yes':True, 'no':False})\n",
        "data['schoolsup'] = data['schoolsup'].map({'yes':True, 'no':False})\n",
        "data['internet'] = data['internet'].map({'yes':True, 'no':False})\n",
        "data['romantic'] = data['romantic'].map({'yes':True, 'no':False})\n",
        "pd.set_option('display.max_columns', data.shape[0]+1)\n",
        "print(data.head())"
      ],
      "execution_count": 108,
      "outputs": [
        {
          "output_type": "stream",
          "text": [
            "  school sex  age address famsize Pstatus  Medu  Fedu     Mjob      Fjob  \\\n",
            "0     GP   F   18       U     GT3       A     4     4  at_home   teacher   \n",
            "1     GP   F   17       U     GT3       T     1     1  at_home     other   \n",
            "2     GP   F   15       U     LE3       T     1     1  at_home     other   \n",
            "3     GP   F   15       U     GT3       T     4     2   health  services   \n",
            "4     GP   F   16       U     GT3       T     3     3    other     other   \n",
            "\n",
            "   reason guardian  traveltime  studytime  failures  schoolsup  famsup   paid  \\\n",
            "0  course   mother           2          2         0       True   False  False   \n",
            "1  course   father           1          2         0      False    True  False   \n",
            "2   other   mother           1          2         3       True   False   True   \n",
            "3    home   mother           1          3         0      False    True   True   \n",
            "4    home   father           1          2         0      False    True   True   \n",
            "\n",
            "  activities nursery higher  internet  romantic  famrel  freetime  goout  \\\n",
            "0         no     yes    yes     False     False       4         3      4   \n",
            "1         no      no    yes      True     False       5         3      3   \n",
            "2         no     yes    yes      True     False       4         3      2   \n",
            "3        yes     yes    yes      True      True       3         2      2   \n",
            "4         no     yes    yes     False     False       4         3      2   \n",
            "\n",
            "   Dalc  Walc  health  absences  G1  G2  G3  \n",
            "0     1     1       3         6   5   6   6  \n",
            "1     1     1       3         4   5   5   6  \n",
            "2     2     3       3        10   7   8  10  \n",
            "3     1     1       5         2  15  14  15  \n",
            "4     1     2       5         4   6  10  10  \n"
          ],
          "name": "stdout"
        }
      ]
    },
    {
      "cell_type": "code",
      "metadata": {
        "id": "KBa-TqltnqQD",
        "colab_type": "code",
        "colab": {}
      },
      "source": [
        "data = data[[\"G1\", \"G2\", \"G3\", \"studytime\", \"failures\", \"absences\", \"traveltime\", \"famsup\", \"goout\"]]\n",
        "#print(data.head())"
      ],
      "execution_count": 0,
      "outputs": []
    },
    {
      "cell_type": "code",
      "metadata": {
        "id": "e1N2_oskntDd",
        "colab_type": "code",
        "colab": {}
      },
      "source": [
        "predict = \"G3\"\n",
        "x = np.array(data.drop([predict], 1))\n",
        "y = np.array(data[predict])\n",
        "x_train, x_test, y_train, y_test = sk.model_selection.train_test_split(x,y, test_size = .1)"
      ],
      "execution_count": 0,
      "outputs": []
    },
    {
      "cell_type": "code",
      "metadata": {
        "id": "4s5KZVhSny_L",
        "colab_type": "code",
        "colab": {
          "base_uri": "https://localhost:8080/",
          "height": 153
        },
        "outputId": "754d613a-781d-4e3a-f89a-a2da57f4be9f"
      },
      "source": [
        "'''best_score = 0\n",
        "for _ in range(500):\n",
        "  x_train, x_test, y_train, y_test = sk.model_selection.train_test_split(x,y, test_size = .1)\n",
        "  linear = sk.linear_model.LinearRegression()\n",
        "  linear.fit(x_train, y_train)\n",
        "  acc = linear.score(x_test, y_test)\n",
        "  \n",
        "  if acc > best_score:\n",
        "    best_score = acc\n",
        "    with open(\"studentmodel\", \"wb\") as f:\n",
        "      pickle.dump(linear, f)\n",
        "    print('Accuracy: ', best_score)'''"
      ],
      "execution_count": 153,
      "outputs": [
        {
          "output_type": "stream",
          "text": [
            "Accuracy:  0.7928606134907055\n",
            "Accuracy:  0.8424266304217255\n",
            "Accuracy:  0.8491932580018431\n",
            "Accuracy:  0.8653145898502158\n",
            "Accuracy:  0.9021356051408073\n",
            "Accuracy:  0.9120269737147482\n",
            "Accuracy:  0.9334763305532904\n",
            "Accuracy:  0.9706027420756225\n"
          ],
          "name": "stdout"
        }
      ]
    },
    {
      "cell_type": "code",
      "metadata": {
        "id": "xZ36IC68n03s",
        "colab_type": "code",
        "colab": {}
      },
      "source": [
        "pickle_in = open(\"studentmodel\", \"rb\")\n",
        "linear = pickle.load(pickle_in)"
      ],
      "execution_count": 0,
      "outputs": []
    },
    {
      "cell_type": "code",
      "metadata": {
        "id": "kd85oJaBn3v5",
        "colab_type": "code",
        "colab": {
          "base_uri": "https://localhost:8080/",
          "height": 68
        },
        "outputId": "ac87d2ef-086e-440d-8ad0-5bbdea986fd3"
      },
      "source": [
        "print('Coeficients: ', linear.coef_)\n",
        "print('intercepts: ', linear.intercept_)"
      ],
      "execution_count": 113,
      "outputs": [
        {
          "output_type": "stream",
          "text": [
            "Coeficients:  [ 0.18868697  0.96995209 -0.17461731 -0.22903095  0.04454155  0.15683437\n",
            "  0.10011368  0.50567531 -0.12770339 -0.3630273   0.06947123  0.11740903]\n",
            "intercepts:  -2.6377711742122187\n"
          ],
          "name": "stdout"
        }
      ]
    },
    {
      "cell_type": "code",
      "metadata": {
        "id": "HEN0H_ypoLLi",
        "colab_type": "code",
        "colab": {
          "base_uri": "https://localhost:8080/",
          "height": 697
        },
        "outputId": "f0ec2edf-5cc6-41f7-e194-3e89e3d35cea"
      },
      "source": [
        "predictions = linear.predict(x_test)\n",
        "for x in range(len(predictions)):\n",
        "  print('prediction: ', predictions[x], \"| Actual result: \", y_test[x])"
      ],
      "execution_count": 156,
      "outputs": [
        {
          "output_type": "stream",
          "text": [
            "prediction:  6.365089885952274 | Actual result:  6\n",
            "prediction:  6.89428621804333 | Actual result:  8\n",
            "prediction:  7.5773712912189275 | Actual result:  8\n",
            "prediction:  8.992349137047352 | Actual result:  10\n",
            "prediction:  8.33706172732569 | Actual result:  10\n",
            "prediction:  11.655239237212268 | Actual result:  12\n",
            "prediction:  12.182849260836981 | Actual result:  13\n",
            "prediction:  11.646095752341633 | Actual result:  12\n",
            "prediction:  7.076205445261598 | Actual result:  8\n",
            "prediction:  15.279514736314344 | Actual result:  16\n",
            "prediction:  15.46432444362464 | Actual result:  15\n",
            "prediction:  7.653779249255063 | Actual result:  0\n",
            "prediction:  13.04042555410804 | Actual result:  12\n",
            "prediction:  11.751817103681661 | Actual result:  13\n",
            "prediction:  8.064608042223895 | Actual result:  8\n",
            "prediction:  15.75517519003343 | Actual result:  15\n",
            "prediction:  14.42005784088159 | Actual result:  14\n",
            "prediction:  8.435696134682399 | Actual result:  9\n",
            "prediction:  7.396382401674012 | Actual result:  6\n",
            "prediction:  10.64140554729393 | Actual result:  12\n",
            "prediction:  11.956072524585595 | Actual result:  13\n",
            "prediction:  14.21478327159765 | Actual result:  14\n",
            "prediction:  4.9871767221158985 | Actual result:  6\n",
            "prediction:  8.195796214843105 | Actual result:  8\n",
            "prediction:  9.561800138527072 | Actual result:  10\n",
            "prediction:  11.653588349888636 | Actual result:  12\n",
            "prediction:  -1.7486674051430637 | Actual result:  0\n",
            "prediction:  10.430058108166891 | Actual result:  10\n",
            "prediction:  4.180481869624074 | Actual result:  5\n",
            "prediction:  13.5458690557068 | Actual result:  15\n",
            "prediction:  14.993663987179556 | Actual result:  16\n",
            "prediction:  11.80120104670121 | Actual result:  14\n",
            "prediction:  8.284961910676747 | Actual result:  10\n",
            "prediction:  7.497131458362983 | Actual result:  8\n",
            "prediction:  9.469763703433717 | Actual result:  10\n",
            "prediction:  12.838391965240277 | Actual result:  13\n",
            "prediction:  6.9093053072988955 | Actual result:  0\n",
            "prediction:  -0.5999625452238435 | Actual result:  0\n",
            "prediction:  8.381334561464255 | Actual result:  9\n",
            "prediction:  6.805839584899017 | Actual result:  7\n"
          ],
          "name": "stdout"
        }
      ]
    },
    {
      "cell_type": "code",
      "metadata": {
        "id": "kn9s6lHP4kWa",
        "colab_type": "code",
        "colab": {
          "base_uri": "https://localhost:8080/",
          "height": 265
        },
        "outputId": "c5de5a1b-8abe-4404-a78e-1ebce4b0821f"
      },
      "source": [
        "p = 'G1'\n",
        "style.use(\"ggplot\")\n",
        "plt.scatter(data[p], data['G3'])\n",
        "plt.xlabel = 'G1 \\n\\n asd'\n",
        "plt.ylabel = 'final grade'\n",
        "#plt.xlabel(\"G1\")\n",
        "#plt.ylabel(\"Final Grade\")\n",
        "plt.show()"
      ],
      "execution_count": 158,
      "outputs": [
        {
          "output_type": "display_data",
          "data": {
            "image/png": "[encoded data removed]",
            "text/plain": [
              "<Figure size 432x288 with 1 Axes>"
            ]
          },
          "metadata": {
            "tags": []
          }
        }
      ]
    }
  ]
}