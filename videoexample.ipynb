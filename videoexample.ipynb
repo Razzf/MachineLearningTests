{
  "nbformat": 4,
  "nbformat_minor": 0,
  "metadata": {
    "colab": {
      "name": "videoexample.ipynb",
      "provenance": [],
      "collapsed_sections": [],
      "authorship_tag": "ABX9TyMmOs8S9PQzGafDKtdZcB4u",
      "include_colab_link": true
    },
    "kernelspec": {
      "name": "python3",
      "display_name": "Python 3"
    }
  },
  "cells": [
    {
      "cell_type": "markdown",
      "metadata": {
        "id": "view-in-github",
        "colab_type": "text"
      },
      "source": [
        "<a href=\"https://colab.research.google.com/github/FelixSnz/MachineLearningTests/blob/master/videoexample.ipynb\" target=\"_parent\"><img src=\"https://colab.research.google.com/assets/colab-badge.svg\" alt=\"Open In Colab\"/></a>"
      ]
    },
    {
      "cell_type": "code",
      "metadata": {
        "id": "nSUkRPea7VyB"
      },
      "source": [
        "import numpy as np\n",
        "import matplotlib.pyplot as plt\n",
        "from sklearn import linear_model, model_selection, datasets\n",
        "import pickle"
      ],
      "execution_count": 6,
      "outputs": []
    },
    {
      "cell_type": "code",
      "metadata": {
        "id": "RyzE_C1cF5MC"
      },
      "source": [
        "data = datasets.load_diabetes()\n",
        "print(data.feature_names)\n",
        "print(data.target)\n",
        "\n",
        "X, y = datasets.load_diabetes(return_X_y=True)"
      ],
      "execution_count": null,
      "outputs": []
    },
    {
      "cell_type": "code",
      "metadata": {
        "id": "tQDjRyy9G3dT"
      },
      "source": [
        "print(X.shape)\n",
        "x_train = X[:-20]\n",
        "x_test = X[-20:]\n",
        "\n",
        "y_train = y[:-20]\n",
        "y_test = y[-20:]\n",
        "\n",
        "x_train, x_test, y_train, y_test = model_selection.train_test_split(X, y, test_size=.1)"
      ],
      "execution_count": null,
      "outputs": []
    },
    {
      "cell_type": "code",
      "metadata": {
        "id": "YLAhdmiMJSvx"
      },
      "source": [
        "model = linear_model.LinearRegression()\r\n",
        "model.fit(x_train, y_train)\r\n",
        "acc = model.score(x_test, y_test)\r\n",
        "print(acc)\r\n",
        "print('coeficients:', '\\n', model.coef_)\r\n",
        "print('Intercept:', '\\n', model.intercept_)"
      ],
      "execution_count": null,
      "outputs": []
    },
    {
      "cell_type": "code",
      "metadata": {
        "id": "cT7iwuhSW9lB"
      },
      "source": [
        "with open(\"diabetes.pickle\", 'wb') as f:\r\n",
        "  pickle.dump(model, f)\r\n",
        "\r\n",
        "pickle_in = open(\"diabetes.pickle\", 'rb')\r\n",
        "model1 = pickle.load(pickle_in)\r\n",
        "\r\n",
        "print(model1.score(x_test, y_test))"
      ],
      "execution_count": null,
      "outputs": []
    },
    {
      "cell_type": "code",
      "metadata": {
        "id": "qa91cfDI3KR5"
      },
      "source": [
        "n = 10000\r\n",
        "best_acc = 0\r\n",
        "\r\n",
        "for _ in range(n):\r\n",
        "  x_train, x_test, y_train, y_test = model_selection.train_test_split(X, y, test_size=.05)\r\n",
        "  model = linear_model.LinearRegression()\r\n",
        "  model.fit(x_train, y_train)\r\n",
        "  acc = model.score(x_test, y_test)\r\n",
        "  if acc > best_acc:\r\n",
        "    with open(\"diabetes.pickle\", 'wb') as f:\r\n",
        "      pickle.dump(model, f)\r\n",
        "    best_acc = acc\r\n",
        "    print(best_acc)\r\n",
        "\r\n",
        "  "
      ],
      "execution_count": null,
      "outputs": []
    },
    {
      "cell_type": "code",
      "metadata": {
        "id": "lY8ADG5x9b7F"
      },
      "source": [
        "predictions = model.predict(x_test)\r\n",
        "\r\n",
        "for i in range(len(predictions)):\r\n",
        "  print(\"Actual:\", y_test[i], \"predicted:\", predictions[i])"
      ],
      "execution_count": null,
      "outputs": []
    },
    {
      "cell_type": "code",
      "metadata": {
        "colab": {
          "base_uri": "https://localhost:8080/",
          "height": 279
        },
        "id": "hD9WYDZnE0vJ",
        "outputId": "acb2791d-dadf-49fd-d218-c2690d32913a"
      },
      "source": [
        "plt.scatter(X[:,2], y)\r\n",
        "\r\n",
        "plt.xlabel(data.feature_names[2])\r\n",
        "plt.ylabel(\"Diabetes grade\")\r\n",
        "plt.show()"
      ],
      "execution_count": 52,
      "outputs": [
        {
          "output_type": "display_data",
          "data": {
            "image/png": "[encoded data removed]",
            "text/plain": [
              "<Figure size 432x288 with 1 Axes>"
            ]
          },
          "metadata": {
            "tags": [],
            "needs_background": "light"
          }
        }
      ]
    }
  ]
}