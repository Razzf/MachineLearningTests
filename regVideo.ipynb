{
  "nbformat": 4,
  "nbformat_minor": 0,
  "metadata": {
    "colab": {
      "name": "regVideo.ipynb",
      "provenance": [],
      "authorship_tag": "ABX9TyPbRJyTdhmBN7SSJIKrhZtS",
      "include_colab_link": true
    },
    "kernelspec": {
      "name": "python3",
      "display_name": "Python 3"
    }
  },
  "cells": [
    {
      "cell_type": "markdown",
      "metadata": {
        "id": "view-in-github",
        "colab_type": "text"
      },
      "source": [
        "<a href=\"https://colab.research.google.com/github/Razzf/MachineLearningTests/blob/master/regVideo.ipynb\" target=\"_parent\"><img src=\"https://colab.research.google.com/assets/colab-badge.svg\" alt=\"Open In Colab\"/></a>"
      ]
    },
    {
      "cell_type": "code",
      "metadata": {
        "id": "i98AOaoUq5M5"
      },
      "source": [
        "import numpy as np\n",
        "from sklearn import linear_model, model_selection, datasets"
      ],
      "execution_count": 15,
      "outputs": []
    },
    {
      "cell_type": "code",
      "metadata": {
        "colab": {
          "base_uri": "https://localhost:8080/"
        },
        "id": "Kyum6oRIsTBA",
        "outputId": "3c6b2e98-efbd-4811-cf95-903b1285e7f1"
      },
      "source": [
        "data = datasets.load_diabetes()\n",
        "print(type(data))\n",
        "print(data.feature_names)\n",
        "X, y = datasets.load_diabetes(return_X_y=True)"
      ],
      "execution_count": 38,
      "outputs": [
        {
          "output_type": "stream",
          "text": [
            "<class 'sklearn.utils.Bunch'>\n",
            "['age', 'sex', 'bmi', 'bp', 's1', 's2', 's3', 's4', 's5', 's6']\n"
          ],
          "name": "stdout"
        }
      ]
    },
    {
      "cell_type": "code",
      "metadata": {
        "colab": {
          "base_uri": "https://localhost:8080/"
        },
        "id": "YGYvTslIzyZR",
        "outputId": "2ff54d95-87c3-4a9b-8307-aa8eecae0059"
      },
      "source": [
        "#Separando los datos\n",
        "x_train, x_test, y_train, y_test = model_selection.train_test_split(X, y, test_size=.1)\n",
        "print(x_train.shape)"
      ],
      "execution_count": 40,
      "outputs": [
        {
          "output_type": "stream",
          "text": [
            "(397, 10)\n"
          ],
          "name": "stdout"
        }
      ]
    },
    {
      "cell_type": "code",
      "metadata": {
        "colab": {
          "base_uri": "https://localhost:8080/"
        },
        "id": "0wx3SjaTx2PJ",
        "outputId": "abbc9c68-6b11-4df6-8daa-35a2eafbb730"
      },
      "source": [
        "# Use only one feature\n",
        "diabetes_X, diabetes_y = datasets.load_diabetes(return_X_y=True)\n",
        "\n",
        "\n",
        "# Split the data into training/testing sets\n",
        "diabetes_X_train = diabetes_X[0:-20]\n",
        "diabetes_X_train1 = diabetes_X[:422]\n",
        "#print(diabetes_X_train1)\n",
        "\n",
        "if (diabetes_X_train == diabetes_X_train1).all():\n",
        "  print(\"siuuuuu\")\n",
        "\n",
        "diabetes_X_test = diabetes_X[-20:]\n",
        "\n",
        "# Split the targets into training/testing sets\n",
        "diabetes_y_train = diabetes_y[:-20]\n",
        "diabetes_y_test = diabetes_y[-20:]\n",
        "print(diabetes_X_train.shape)"
      ],
      "execution_count": 61,
      "outputs": [
        {
          "output_type": "stream",
          "text": [
            "siuuuuu\n",
            "(422, 10)\n"
          ],
          "name": "stdout"
        }
      ]
    },
    {
      "cell_type": "code",
      "metadata": {
        "id": "g9EIa16Eu_rE"
      },
      "source": [
        "model = linear_model.LinearRegression()"
      ],
      "execution_count": 8,
      "outputs": []
    },
    {
      "cell_type": "code",
      "metadata": {
        "id": "gRSpZw590gUp"
      },
      "source": [
        "model.fit(x_train, y_train)\n",
        "acc = model.score(x_test, y_test)\n",
        "print(acc)\n",
        "\n",
        "print('Coeficients:', '\\n', model.coef_)\n",
        "print('Intercept:', '\\n', model.intercept_)"
      ],
      "execution_count": null,
      "outputs": []
    },
    {
      "cell_type": "code",
      "metadata": {
        "id": "IOBoXZ4K5aa7"
      },
      "source": [
        "best_score = 0\n",
        "for _ in range(10000):\n",
        "  x_train, x_test, y_train, y_test = model_selection.train_test_split(X, y, test_size=.05)\n",
        "  regression = linear_model.LinearRegression()\n",
        "  regression.fit(x_train, y_train)\n",
        "  acc = regression.score(x_test, y_test)\n",
        "  if acc > best_score:\n",
        "    with open(\"diabetes.pickle\", \"wb\") as f:\n",
        "      pickle.dump(regression, f)\n",
        "    best_score = acc\n",
        "    print(acc)"
      ],
      "execution_count": null,
      "outputs": []
    },
    {
      "cell_type": "code",
      "metadata": {
        "colab": {
          "base_uri": "https://localhost:8080/"
        },
        "id": "VYDYvYz12zoC",
        "outputId": "6a7e2f3b-a392-4790-c200-145deabbb82a"
      },
      "source": [
        "predictions = model.predict(x_test)\n",
        "\n",
        "for i in range(len(predictions)):\n",
        "  print(\"Actual:\", y_test[i], \" Predicted:\", predictions[i])"
      ],
      "execution_count": 12,
      "outputs": [
        {
          "output_type": "stream",
          "text": [
            "Actual: 55.0  Predicted: 42.415243382118064\n",
            "Actual: 341.0  Predicted: 254.6857242834729\n",
            "Actual: 170.0  Predicted: 190.35007735724895\n",
            "Actual: 220.0  Predicted: 266.80861000921266\n",
            "Actual: 129.0  Predicted: 108.76412245759929\n",
            "Actual: 45.0  Predicted: 36.85510293905155\n",
            "Actual: 233.0  Predicted: 201.2213557668375\n",
            "Actual: 124.0  Predicted: 177.31132862166106\n",
            "Actual: 90.0  Predicted: 183.66148226632953\n",
            "Actual: 185.0  Predicted: 166.41422870662342\n",
            "Actual: 85.0  Predicted: 62.020846919061\n",
            "Actual: 107.0  Predicted: 116.99048145389054\n",
            "Actual: 47.0  Predicted: 100.62635659589333\n",
            "Actual: 78.0  Predicted: 126.88610360072379\n",
            "Actual: 128.0  Predicted: 102.10337314965673\n",
            "Actual: 166.0  Predicted: 215.8252167609607\n",
            "Actual: 88.0  Predicted: 147.9848520480889\n",
            "Actual: 40.0  Predicted: 138.77243266973557\n",
            "Actual: 163.0  Predicted: 188.2472230089763\n",
            "Actual: 72.0  Predicted: 102.45219620384783\n",
            "Actual: 281.0  Predicted: 254.69063591240564\n",
            "Actual: 111.0  Predicted: 172.37897743711102\n",
            "Actual: 246.0  Predicted: 236.2613105776748\n",
            "Actual: 109.0  Predicted: 168.46619602906262\n",
            "Actual: 90.0  Predicted: 145.56430648985022\n",
            "Actual: 264.0  Predicted: 243.29237089609484\n",
            "Actual: 215.0  Predicted: 247.4065743836382\n",
            "Actual: 151.0  Predicted: 168.3884143303089\n",
            "Actual: 64.0  Predicted: 93.78581183937818\n",
            "Actual: 139.0  Predicted: 180.74789472326393\n",
            "Actual: 243.0  Predicted: 253.13085240671228\n",
            "Actual: 275.0  Predicted: 254.62861485678042\n",
            "Actual: 265.0  Predicted: 211.83244047088195\n",
            "Actual: 258.0  Predicted: 235.69994584287048\n",
            "Actual: 55.0  Predicted: 151.69617967197752\n",
            "Actual: 198.0  Predicted: 210.23435099114243\n",
            "Actual: 202.0  Predicted: 193.0593296511961\n",
            "Actual: 53.0  Predicted: 118.27500087829941\n",
            "Actual: 261.0  Predicted: 236.18995443933218\n",
            "Actual: 68.0  Predicted: 116.03817019995691\n",
            "Actual: 65.0  Predicted: 101.93504604311545\n",
            "Actual: 121.0  Predicted: 213.43048131488075\n",
            "Actual: 150.0  Predicted: 126.72194413879662\n",
            "Actual: 74.0  Predicted: 134.6270675347027\n",
            "Actual: 69.0  Predicted: 103.89838475164969\n"
          ],
          "name": "stdout"
        }
      ]
    }
  ]
}