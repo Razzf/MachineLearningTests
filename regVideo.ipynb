{
  "nbformat": 4,
  "nbformat_minor": 0,
  "metadata": {
    "colab": {
      "name": "regVideo.ipynb",
      "provenance": [],
      "authorship_tag": "ABX9TyPXMNH2EA/+HimGZjGxKVtf",
      "include_colab_link": true
    },
    "kernelspec": {
      "name": "python3",
      "display_name": "Python 3"
    }
  },
  "cells": [
    {
      "cell_type": "markdown",
      "metadata": {
        "id": "view-in-github",
        "colab_type": "text"
      },
      "source": [
        "<a href=\"https://colab.research.google.com/github/FelixSnz/MachineLearningTests/blob/master/regVideo.ipynb\" target=\"_parent\"><img src=\"https://colab.research.google.com/assets/colab-badge.svg\" alt=\"Open In Colab\"/></a>"
      ]
    },
    {
      "cell_type": "code",
      "metadata": {
        "id": "i98AOaoUq5M5"
      },
      "source": [
        "import numpy as np\n",
        "import pandas as pd\n",
        "import matplotlib.pyplot as plt\n",
        "from sklearn import linear_model, model_selection, datasets\n",
        "import pickle"
      ],
      "execution_count": 29,
      "outputs": []
    },
    {
      "cell_type": "code",
      "metadata": {
        "colab": {
          "base_uri": "https://localhost:8080/"
        },
        "id": "Kyum6oRIsTBA",
        "outputId": "92b46fd6-992e-4b1a-ac28-5129008ea00e"
      },
      "source": [
        "#Without Dataframe\n",
        "data = datasets.load_diabetes()\n",
        "print(type(data))\n",
        "print(data.feature_names)\n",
        "X, y = datasets.load_diabetes(return_X_y=True)\n",
        "print(X[:, 0].size)"
      ],
      "execution_count": 42,
      "outputs": [
        {
          "output_type": "stream",
          "text": [
            "<class 'sklearn.utils.Bunch'>\n",
            "['age', 'sex', 'bmi', 'bp', 's1', 's2', 's3', 's4', 's5', 's6']\n",
            "442\n"
          ],
          "name": "stdout"
        }
      ]
    },
    {
      "cell_type": "code",
      "metadata": {
        "colab": {
          "base_uri": "https://localhost:8080/"
        },
        "id": "A-0W_w7lQo67",
        "outputId": "12291d60-af9f-48ea-d4ce-d5c464270b54"
      },
      "source": [
        "#With Dataframe\r\n",
        "data_bunch = datasets.load_diabetes()\r\n",
        "data = pd.DataFrame(data_bunch.data, columns=data_bunch.feature_names)\r\n",
        "data['target'] = data_bunch.target\r\n",
        "print(type(data))\r\n",
        "print(data.columns)\r\n",
        "X = np.array(data.drop('target', 1))\r\n",
        "y = np.array(data['target'])\r\n",
        "print(data['age'].size)"
      ],
      "execution_count": 54,
      "outputs": [
        {
          "output_type": "stream",
          "text": [
            "<class 'pandas.core.frame.DataFrame'>\n",
            "Index(['age', 'sex', 'bmi', 'bp', 's1', 's2', 's3', 's4', 's5', 's6',\n",
            "       'target'],\n",
            "      dtype='object')\n",
            "442\n"
          ],
          "name": "stdout"
        }
      ]
    },
    {
      "cell_type": "code",
      "metadata": {
        "colab": {
          "base_uri": "https://localhost:8080/"
        },
        "id": "YGYvTslIzyZR",
        "outputId": "dd7f6d39-b105-4eac-afbe-c7a7cdb62c63"
      },
      "source": [
        "#Separando los datos con model_selection\n",
        "x_train, x_test, y_train, y_test = model_selection.train_test_split(X, y, test_size=.1)\n",
        "print(x_train.shape)"
      ],
      "execution_count": 4,
      "outputs": [
        {
          "output_type": "stream",
          "text": [
            "(397, 10)\n"
          ],
          "name": "stdout"
        }
      ]
    },
    {
      "cell_type": "code",
      "metadata": {
        "id": "0wx3SjaTx2PJ"
      },
      "source": [
        "#Separando los datos manualmente \n",
        "x_train = X[0:-20]\n",
        "x_test = X[-20:]\n",
        "y_train = y[:-20]\n",
        "y_test = y[-20:]\n"
      ],
      "execution_count": 52,
      "outputs": []
    },
    {
      "cell_type": "code",
      "metadata": {
        "id": "gRSpZw590gUp",
        "colab": {
          "base_uri": "https://localhost:8080/"
        },
        "outputId": "900d89ea-ae0e-4e47-f893-5ed815761c1b"
      },
      "source": [
        "#Creacion y entrenamiento del modelo\n",
        "model = linear_model.LinearRegression()\n",
        "model.fit(x_train, y_train)\n",
        "acc = model.score(x_test, y_test)\n",
        "print(acc)\n",
        "print('Coeficients:', '\\n', model.coef_)\n",
        "print('Intercept:', '\\n', model.intercept_)"
      ],
      "execution_count": 7,
      "outputs": [
        {
          "output_type": "stream",
          "text": [
            "0.41798544208995814\n",
            "Coeficients: \n",
            " [   1.43852906 -224.5629612   500.2593761   340.56750956 -849.2515311\n",
            "  542.23893645   90.01438672  149.14261129  781.92316444   49.02565796]\n",
            "Intercept: \n",
            " 153.23340442701277\n"
          ],
          "name": "stdout"
        }
      ]
    },
    {
      "cell_type": "code",
      "metadata": {
        "id": "xVFNk7c1Us9B"
      },
      "source": [
        "#Guardando el modelo entrenado\r\n",
        "with open(\"diabetes.pickle\", \"wb\") as f:\r\n",
        "      pickle.dump(regression, f)\r\n",
        "\r\n",
        "#importando un modelo ya entrenado\r\n",
        "pickle_in = open(\"studentgrades.pickle\", \"rb\")\r\n",
        "linear = pickle.load(pickle_in)"
      ],
      "execution_count": null,
      "outputs": []
    },
    {
      "cell_type": "code",
      "metadata": {
        "id": "IOBoXZ4K5aa7",
        "colab": {
          "base_uri": "https://localhost:8080/"
        },
        "outputId": "f9148416-9a14-492c-9947-588d19380f9a"
      },
      "source": [
        "#Obteniendo el mejor modelo de n ciclos\n",
        "n = 1000\n",
        "prev_acc = 0\n",
        "for _ in range(n):\n",
        "  x_train, x_test, y_train, y_test = model_selection.train_test_split(X, y, test_size=.05)\n",
        "  regression = linear_model.LinearRegression()\n",
        "  regression.fit(x_train, y_train)\n",
        "  acc = regression.score(x_test, y_test)\n",
        "  if acc > best_score:\n",
        "    with open(\"diabetes.pickle\", \"wb\") as f:\n",
        "      pickle.dump(regression, f)\n",
        "    best_score = acc\n",
        "    print(acc)"
      ],
      "execution_count": 9,
      "outputs": [
        {
          "output_type": "stream",
          "text": [
            "0.24311535232678272\n",
            "0.4168073369949039\n",
            "0.5065290657256469\n",
            "0.5946698859662001\n",
            "0.6198826976662538\n",
            "0.7693823828442554\n",
            "0.7704219000009347\n",
            "0.7742070519947543\n",
            "0.779876167885637\n",
            "0.8210666283830611\n",
            "0.8319100276920469\n",
            "0.8349743395479396\n",
            "0.8607816832592339\n"
          ],
          "name": "stdout"
        }
      ]
    },
    {
      "cell_type": "code",
      "metadata": {
        "colab": {
          "base_uri": "https://localhost:8080/"
        },
        "id": "VYDYvYz12zoC",
        "outputId": "93f8934b-7b16-4d3f-9dab-4e0126990e01"
      },
      "source": [
        "predictions = model.predict(x_test)\n",
        "\n",
        "for i in range(len(predictions)):\n",
        "  print(\"Actual:\", y_test[i], \" Predicted:\", predictions[i])"
      ],
      "execution_count": 10,
      "outputs": [
        {
          "output_type": "stream",
          "text": [
            "Actual: 174.0  Predicted: 180.47073230506157\n",
            "Actual: 170.0  Predicted: 137.91211565119306\n",
            "Actual: 200.0  Predicted: 144.57120036323926\n",
            "Actual: 97.0  Predicted: 107.14100626559366\n",
            "Actual: 85.0  Predicted: 176.74874915172353\n",
            "Actual: 265.0  Predicted: 201.93631010329722\n",
            "Actual: 128.0  Predicted: 168.4668722287112\n",
            "Actual: 277.0  Predicted: 254.4730812390793\n",
            "Actual: 265.0  Predicted: 168.4114714490407\n",
            "Actual: 288.0  Predicted: 209.8556350901024\n",
            "Actual: 232.0  Predicted: 193.019644545871\n",
            "Actual: 138.0  Predicted: 76.45481430188364\n",
            "Actual: 122.0  Predicted: 172.61042043166321\n",
            "Actual: 31.0  Predicted: 98.06007724783925\n",
            "Actual: 232.0  Predicted: 232.42480810929845\n",
            "Actual: 102.0  Predicted: 109.03616186721825\n",
            "Actual: 50.0  Predicted: 142.73542665491212\n",
            "Actual: 302.0  Predicted: 149.06481945959254\n",
            "Actual: 242.0  Predicted: 173.49684990822647\n",
            "Actual: 127.0  Predicted: 121.6323214106502\n",
            "Actual: 185.0  Predicted: 145.85110390078484\n",
            "Actual: 143.0  Predicted: 176.2316328798605\n",
            "Actual: 279.0  Predicted: 211.76348361883967\n"
          ],
          "name": "stdout"
        }
      ]
    },
    {
      "cell_type": "code",
      "metadata": {
        "colab": {
          "base_uri": "https://localhost:8080/",
          "height": 279
        },
        "id": "U8KgJ6aMDEbx",
        "outputId": "b2891489-7980-4b17-f725-12427e73b99e"
      },
      "source": [
        "# Drawing and plotting model\r\n",
        "plt.scatter(X[:, 2], y)\r\n",
        "\r\n",
        "plt.xlabel(plot)\r\n",
        "plt.ylabel(\"Diabetes Grade\")\r\n",
        "plt.show()"
      ],
      "execution_count": 51,
      "outputs": [
        {
          "output_type": "display_data",
          "data": {
            "image/png": "[encoded data removed]",
            "text/plain": [
              "<Figure size 432x288 with 1 Axes>"
            ]
          },
          "metadata": {
            "tags": [],
            "needs_background": "light"
          }
        }
      ]
    }
  ]
}