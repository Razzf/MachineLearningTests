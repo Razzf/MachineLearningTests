{
  "nbformat": 4,
  "nbformat_minor": 0,
  "metadata": {
    "colab": {
      "name": "KMC-Example.ipynb",
      "provenance": [],
      "collapsed_sections": [],
      "authorship_tag": "ABX9TyMgwmzS4gZ0jTLA2cQFPTmP",
      "include_colab_link": true
    },
    "kernelspec": {
      "name": "python3",
      "display_name": "Python 3"
    }
  },
  "cells": [
    {
      "cell_type": "markdown",
      "metadata": {
        "id": "view-in-github",
        "colab_type": "text"
      },
      "source": [
        "<a href=\"https://colab.research.google.com/github/Razzf/MachineLearningTests/blob/master/KMClustering.ipynb\" target=\"_parent\"><img src=\"https://colab.research.google.com/assets/colab-badge.svg\" alt=\"Open In Colab\"/></a>"
      ]
    },
    {
      "cell_type": "code",
      "metadata": {
        "id": "mgQAIK4evnGv",
        "colab_type": "code",
        "colab": {}
      },
      "source": [
        "import numpy as np\n",
        "import sklearn\n",
        "from sklearn.preprocessing import scale\n",
        "from sklearn.datasets import load_digits\n",
        "from sklearn.cluster import KMeans\n",
        "from sklearn import metrics"
      ],
      "execution_count": 0,
      "outputs": []
    },
    {
      "cell_type": "code",
      "metadata": {
        "id": "58FKSHB1v4hr",
        "colab_type": "code",
        "colab": {}
      },
      "source": [
        "digits = load_digits()\n",
        "data = scale(digits.data)\n",
        "y = digits.target\n",
        "\n",
        "k = 10\n",
        "samples, features = data.shape"
      ],
      "execution_count": 0,
      "outputs": []
    },
    {
      "cell_type": "code",
      "metadata": {
        "id": "KKIdF10jwCVX",
        "colab_type": "code",
        "colab": {}
      },
      "source": [
        "def bench_k_means(estimator, name, data):\n",
        "    estimator.fit(data)\n",
        "    print('%-9s\\t%i\\t%.3f\\t%.3f\\t%.3f\\t%.3f\\t%.3f\\t%.3f'\n",
        "          % (name, estimator.inertia_,\n",
        "             metrics.homogeneity_score(y, estimator.labels_),\n",
        "             metrics.completeness_score(y, estimator.labels_),\n",
        "             metrics.v_measure_score(y, estimator.labels_),\n",
        "             metrics.adjusted_rand_score(y, estimator.labels_),\n",
        "             metrics.adjusted_mutual_info_score(y,  estimator.labels_),\n",
        "             metrics.silhouette_score(data, estimator.labels_,\n",
        "                                      metric='euclidean')))"
      ],
      "execution_count": 0,
      "outputs": []
    },
    {
      "cell_type": "code",
      "metadata": {
        "id": "jko04TTTwDG7",
        "colab_type": "code",
        "colab": {
          "base_uri": "https://localhost:8080/",
          "height": 34
        },
        "outputId": "086421d6-0aaa-49a1-b952-5fe9542a567b"
      },
      "source": [
        "clf = KMeans(n_clusters=k, init=\"random\", n_init=10)\n",
        "bench_k_means(clf, \"1\", data)"
      ],
      "execution_count": 36,
      "outputs": [
        {
          "output_type": "stream",
          "text": [
            "1        \t69415\t0.599\t0.648\t0.623\t0.464\t0.619\t0.146\n"
          ],
          "name": "stdout"
        }
      ]
    }
  ]
}