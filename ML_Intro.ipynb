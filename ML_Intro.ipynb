{
  "nbformat": 4,
  "nbformat_minor": 0,
  "metadata": {
    "colab": {
      "name": "ML-Intro.ipynb",
      "provenance": [],
      "authorship_tag": "ABX9TyP1gvmybyd9J0XDb14lamI2",
      "include_colab_link": true
    },
    "kernelspec": {
      "name": "python3",
      "display_name": "Python 3"
    }
  },
  "cells": [
    {
      "cell_type": "markdown",
      "metadata": {
        "id": "view-in-github",
        "colab_type": "text"
      },
      "source": [
        "<a href=\"https://colab.research.google.com/github/Razzf/MachineLearningTests/blob/master/ML_Intro.ipynb\" target=\"_parent\"><img src=\"https://colab.research.google.com/assets/colab-badge.svg\" alt=\"Open In Colab\"/></a>"
      ]
    },
    {
      "cell_type": "code",
      "metadata": {
        "id": "G93UVk8toVNd",
        "colab_type": "code",
        "colab": {}
      },
      "source": [
        "#Module installer\n",
        "#!pip install -U scikit-learn"
      ],
      "execution_count": 0,
      "outputs": []
    },
    {
      "cell_type": "code",
      "metadata": {
        "id": "DpGZfJzGmVpt",
        "colab_type": "code",
        "colab": {}
      },
      "source": [
        "import numpy as np\n",
        "import pandas as pd\n",
        "import sklearn.model_selection\n",
        "import sklearn.linear_model\n",
        "import sklearn as sk\n",
        "import matplotlib.pyplot as plt\n",
        "from matplotlib import style\n",
        "import pickle\n"
      ],
      "execution_count": 0,
      "outputs": []
    },
    {
      "cell_type": "code",
      "metadata": {
        "id": "ra2oFR4sm1T6",
        "colab_type": "code",
        "colab": {}
      },
      "source": [
        "data = pd.read_csv(\"student-mat.csv\", sep=\";\")\n",
        "data['paid'] = data['paid'].map({'yes':True, 'no':False})\n",
        "data['famsup'] = data['famsup'].map({'yes':True, 'no':False})\n",
        "data['schoolsup'] = data['schoolsup'].map({'yes':True, 'no':False})\n",
        "data['internet'] = data['internet'].map({'yes':True, 'no':False})\n",
        "data['romantic'] = data['romantic'].map({'yes':True, 'no':False})\n",
        "pd.set_option('display.max_columns', data.shape[0]+1)\n",
        "print(data.head())"
      ],
      "execution_count": 0,
      "outputs": []
    },
    {
      "cell_type": "code",
      "metadata": {
        "id": "KBa-TqltnqQD",
        "colab_type": "code",
        "colab": {}
      },
      "source": [
        "data = data[[\"G1\", \"G2\", \"G3\", \"studytime\", \"failures\", \"absences\", \"traveltime\", \"famsup\", \"schoolsup\", \"internet\", \"romantic\", \"goout\", \"health\"]]\n",
        "#print(data.head())"
      ],
      "execution_count": 0,
      "outputs": []
    },
    {
      "cell_type": "code",
      "metadata": {
        "id": "e1N2_oskntDd",
        "colab_type": "code",
        "colab": {}
      },
      "source": [
        "predict = \"G3\"\n",
        "x = np.array(data.drop([predict], 1))\n",
        "y = np.array(data[predict])\n",
        "x_train, x_test, y_train, y_test = sk.model_selection.train_test_split(x,y, test_size = .1)"
      ],
      "execution_count": 0,
      "outputs": []
    },
    {
      "cell_type": "code",
      "metadata": {
        "id": "4s5KZVhSny_L",
        "colab_type": "code",
        "colab": {}
      },
      "source": [
        "best_score = 0\n",
        "for _ in range(30):\n",
        "  x_train, x_test, y_train, y_test = sk.model_selection.train_test_split(x,y, test_size = .1)\n",
        "  linear = sk.linear_model.LinearRegression()\n",
        "  linear.fit(x_train, y_train)\n",
        "  acc = linear.score(x_test, y_test)\n",
        "  \n",
        "  if acc > best_score:\n",
        "    best_score = acc\n",
        "    with open(\"studentmodel\", \"wb\") as f:\n",
        "      pickle.dump(linear, f)\n",
        "    print('Accuracy: ', best_score)"
      ],
      "execution_count": 0,
      "outputs": []
    },
    {
      "cell_type": "code",
      "metadata": {
        "id": "xZ36IC68n03s",
        "colab_type": "code",
        "colab": {}
      },
      "source": [
        "pickle_in = open(\"studentmodel\", \"rb\")\n",
        "linear = pickle.load(pickle_in)"
      ],
      "execution_count": 0,
      "outputs": []
    },
    {
      "cell_type": "code",
      "metadata": {
        "id": "kd85oJaBn3v5",
        "colab_type": "code",
        "colab": {}
      },
      "source": [
        "print('Coeficients: ', linear.coef_)\n",
        "print('intercepts: ', linear.intercept_)"
      ],
      "execution_count": 0,
      "outputs": []
    },
    {
      "cell_type": "code",
      "metadata": {
        "id": "HEN0H_ypoLLi",
        "colab_type": "code",
        "colab": {}
      },
      "source": [
        "predictions = linear.predict(x_test)\n",
        "for x in range(len(predictions)):\n",
        "  print('prediction: ', predictions[x], \"| Actual result: \", y_test[x])"
      ],
      "execution_count": 0,
      "outputs": []
    }
  ]
}