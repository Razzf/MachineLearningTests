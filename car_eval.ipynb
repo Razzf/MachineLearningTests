{
  "nbformat": 4,
  "nbformat_minor": 0,
  "metadata": {
    "colab": {
      "name": "car_eval.ipynb",
      "provenance": [],
      "collapsed_sections": [],
      "authorship_tag": "ABX9TyPXveNsKJBx+Mzg/E9OLkEM",
      "include_colab_link": true
    },
    "kernelspec": {
      "name": "python3",
      "display_name": "Python 3"
    }
  },
  "cells": [
    {
      "cell_type": "markdown",
      "metadata": {
        "id": "view-in-github",
        "colab_type": "text"
      },
      "source": [
        "<a href=\"https://colab.research.google.com/github/Razzf/MachineLearningTests/blob/master/car_eval.ipynb\" target=\"_parent\"><img src=\"https://colab.research.google.com/assets/colab-badge.svg\" alt=\"Open In Colab\"/></a>"
      ]
    },
    {
      "cell_type": "code",
      "metadata": {
        "id": "maCR74pUDQWM",
        "colab_type": "code",
        "colab": {}
      },
      "source": [
        "import sklearn\n",
        "from sklearn.utils import shuffle\n",
        "from sklearn.neighbors import KNeighborsClassifier\n",
        "import pandas as pd\n",
        "import numpy as np\n",
        "from sklearn import linear_model, preprocessing"
      ],
      "execution_count": 0,
      "outputs": []
    },
    {
      "cell_type": "code",
      "metadata": {
        "id": "T5nftYZKGJe3",
        "colab_type": "code",
        "colab": {}
      },
      "source": [
        "data = pd.read_csv(\"car.data\")\n",
        "#print(data.head())"
      ],
      "execution_count": 0,
      "outputs": []
    },
    {
      "cell_type": "code",
      "metadata": {
        "id": "mE2gFoL5G3lQ",
        "colab_type": "code",
        "colab": {}
      },
      "source": [
        "le = preprocessing.LabelEncoder()\n",
        "#print(data['buying'])\n",
        "buying = le.fit_transform(list(data[\"buying\"]))\n",
        "maint = le.fit_transform(list(data[\"maint\"]))\n",
        "door = le.fit_transform(list(data[\"door\"]))\n",
        "persons = le.fit_transform(list(data[\"persons\"]))\n",
        "lug_boot = le.fit_transform(list(data[\"lug_boot\"]))\n",
        "safety = le.fit_transform(list(data[\"safety\"]))\n",
        "cls = le.fit_transform(list(data[\"class\"]))\n",
        "print(buying)"
      ],
      "execution_count": 0,
      "outputs": []
    },
    {
      "cell_type": "code",
      "metadata": {
        "id": "4JSQIFD0K9T1",
        "colab_type": "code",
        "colab": {}
      },
      "source": [
        "x = list(zip(buying, maint, door, persons, lug_boot, safety))\n",
        "y = list(cls)\n",
        "x_train, x_test, y_train, y_test = sklearn.model_selection.train_test_split(x,y, test_size = .1)\n",
        "print(x_train)"
      ],
      "execution_count": 0,
      "outputs": []
    },
    {
      "cell_type": "code",
      "metadata": {
        "id": "bf6nJe2CU7ou",
        "colab_type": "code",
        "colab": {
          "base_uri": "https://localhost:8080/",
          "height": 34
        },
        "outputId": "297005e6-9e99-44c2-984a-8b2be6f1ed26"
      },
      "source": [
        "model = KNeighborsClassifier(n_neighbors=9)\n",
        "model.fit(x_train, y_train)\n",
        "acc = model.score(x_test, y_test)\n",
        "print(acc)"
      ],
      "execution_count": 30,
      "outputs": [
        {
          "output_type": "stream",
          "text": [
            "0.9595375722543352\n"
          ],
          "name": "stdout"
        }
      ]
    },
    {
      "cell_type": "code",
      "metadata": {
        "id": "Bc69M-HqVY3b",
        "colab_type": "code",
        "colab": {
          "base_uri": "https://localhost:8080/",
          "height": 1000
        },
        "outputId": "0eabedd5-631f-4c94-b929-5ec82d5218f8"
      },
      "source": [
        "names = [\"unacc\", \"acc\", \"good\", \"vgood\"]\n",
        "\n",
        "predictions = model.predict(x_test)\n",
        "\n",
        "for i in range(len(predictions)):\n",
        "  print(\"prediction: \", predictions[i], \"data: \", x_test[i], \"Actual Result: \", y_test[i])"
      ],
      "execution_count": 34,
      "outputs": [
        {
          "output_type": "stream",
          "text": [
            "prediction:  1 data:  (1, 1, 0, 2, 0, 2) Actual Result:  1\n",
            "prediction:  2 data:  (3, 2, 0, 0, 2, 2) Actual Result:  2\n",
            "prediction:  2 data:  (2, 2, 3, 0, 1, 2) Actual Result:  2\n",
            "prediction:  0 data:  (1, 0, 1, 1, 2, 0) Actual Result:  0\n",
            "prediction:  2 data:  (1, 2, 1, 1, 2, 1) Actual Result:  2\n",
            "prediction:  2 data:  (0, 1, 3, 2, 0, 1) Actual Result:  2\n",
            "prediction:  2 data:  (3, 2, 1, 0, 1, 1) Actual Result:  2\n",
            "prediction:  0 data:  (3, 2, 2, 1, 0, 0) Actual Result:  0\n",
            "prediction:  0 data:  (2, 1, 2, 1, 1, 2) Actual Result:  1\n",
            "prediction:  2 data:  (3, 1, 0, 2, 2, 2) Actual Result:  2\n",
            "prediction:  2 data:  (0, 2, 3, 2, 1, 1) Actual Result:  2\n",
            "prediction:  2 data:  (1, 2, 1, 0, 0, 2) Actual Result:  2\n",
            "prediction:  2 data:  (3, 1, 0, 0, 0, 0) Actual Result:  2\n",
            "prediction:  0 data:  (0, 2, 2, 1, 2, 0) Actual Result:  0\n",
            "prediction:  2 data:  (2, 1, 0, 0, 1, 0) Actual Result:  2\n",
            "prediction:  2 data:  (0, 0, 0, 1, 2, 2) Actual Result:  2\n",
            "prediction:  2 data:  (1, 0, 2, 1, 0, 1) Actual Result:  2\n",
            "prediction:  2 data:  (3, 1, 1, 2, 1, 1) Actual Result:  2\n",
            "prediction:  2 data:  (0, 0, 1, 0, 1, 1) Actual Result:  2\n",
            "prediction:  2 data:  (0, 1, 2, 2, 0, 1) Actual Result:  2\n",
            "prediction:  2 data:  (3, 1, 2, 0, 1, 2) Actual Result:  2\n",
            "prediction:  0 data:  (2, 0, 3, 2, 2, 0) Actual Result:  0\n",
            "prediction:  2 data:  (3, 1, 1, 0, 0, 0) Actual Result:  2\n",
            "prediction:  2 data:  (0, 0, 3, 2, 0, 1) Actual Result:  2\n",
            "prediction:  2 data:  (0, 3, 2, 1, 2, 1) Actual Result:  2\n",
            "prediction:  2 data:  (0, 2, 1, 0, 2, 0) Actual Result:  2\n",
            "prediction:  2 data:  (1, 3, 0, 2, 1, 2) Actual Result:  2\n",
            "prediction:  2 data:  (0, 2, 1, 1, 2, 1) Actual Result:  2\n",
            "prediction:  2 data:  (2, 3, 2, 1, 2, 2) Actual Result:  2\n",
            "prediction:  0 data:  (0, 1, 2, 1, 1, 0) Actual Result:  0\n",
            "prediction:  2 data:  (1, 1, 0, 2, 0, 1) Actual Result:  2\n",
            "prediction:  2 data:  (1, 1, 1, 1, 2, 1) Actual Result:  2\n",
            "prediction:  2 data:  (3, 3, 0, 0, 2, 0) Actual Result:  2\n",
            "prediction:  2 data:  (0, 0, 3, 0, 1, 1) Actual Result:  2\n",
            "prediction:  2 data:  (1, 2, 0, 0, 1, 1) Actual Result:  2\n",
            "prediction:  2 data:  (3, 0, 0, 0, 2, 0) Actual Result:  2\n",
            "prediction:  2 data:  (0, 3, 3, 1, 2, 1) Actual Result:  2\n",
            "prediction:  1 data:  (1, 1, 3, 1, 1, 2) Actual Result:  1\n",
            "prediction:  2 data:  (3, 0, 0, 0, 0, 1) Actual Result:  2\n",
            "prediction:  0 data:  (3, 1, 0, 1, 0, 0) Actual Result:  0\n",
            "prediction:  2 data:  (3, 3, 2, 0, 1, 2) Actual Result:  2\n",
            "prediction:  2 data:  (0, 3, 1, 0, 1, 2) Actual Result:  2\n",
            "prediction:  2 data:  (0, 1, 0, 2, 1, 1) Actual Result:  2\n",
            "prediction:  2 data:  (0, 3, 2, 0, 1, 0) Actual Result:  2\n",
            "prediction:  2 data:  (1, 2, 0, 1, 1, 1) Actual Result:  2\n",
            "prediction:  2 data:  (0, 2, 1, 2, 0, 1) Actual Result:  2\n",
            "prediction:  2 data:  (3, 0, 0, 0, 0, 2) Actual Result:  2\n",
            "prediction:  0 data:  (2, 0, 2, 2, 1, 2) Actual Result:  0\n",
            "prediction:  2 data:  (0, 3, 1, 2, 0, 1) Actual Result:  2\n",
            "prediction:  2 data:  (1, 3, 1, 0, 1, 1) Actual Result:  2\n",
            "prediction:  2 data:  (2, 1, 0, 0, 1, 2) Actual Result:  2\n",
            "prediction:  2 data:  (1, 1, 1, 2, 1, 1) Actual Result:  2\n",
            "prediction:  2 data:  (0, 3, 3, 2, 2, 2) Actual Result:  2\n",
            "prediction:  2 data:  (1, 2, 1, 0, 2, 1) Actual Result:  2\n",
            "prediction:  2 data:  (0, 3, 2, 2, 2, 2) Actual Result:  2\n",
            "prediction:  2 data:  (0, 3, 0, 2, 2, 0) Actual Result:  2\n",
            "prediction:  2 data:  (2, 1, 2, 1, 2, 1) Actual Result:  2\n",
            "prediction:  2 data:  (3, 1, 1, 0, 2, 2) Actual Result:  2\n",
            "prediction:  2 data:  (3, 3, 3, 1, 2, 2) Actual Result:  2\n",
            "prediction:  2 data:  (1, 1, 1, 0, 1, 0) Actual Result:  2\n",
            "prediction:  2 data:  (2, 3, 2, 0, 2, 2) Actual Result:  2\n",
            "prediction:  2 data:  (2, 3, 0, 0, 0, 2) Actual Result:  2\n",
            "prediction:  2 data:  (3, 3, 2, 1, 2, 1) Actual Result:  2\n",
            "prediction:  0 data:  (2, 1, 3, 1, 2, 2) Actual Result:  0\n",
            "prediction:  2 data:  (3, 0, 1, 1, 0, 0) Actual Result:  2\n",
            "prediction:  2 data:  (1, 1, 3, 1, 2, 2) Actual Result:  0\n",
            "prediction:  2 data:  (0, 2, 0, 0, 0, 2) Actual Result:  2\n",
            "prediction:  2 data:  (2, 3, 0, 0, 2, 0) Actual Result:  2\n",
            "prediction:  0 data:  (2, 2, 3, 1, 2, 0) Actual Result:  0\n",
            "prediction:  2 data:  (1, 1, 1, 0, 0, 0) Actual Result:  2\n",
            "prediction:  0 data:  (0, 2, 2, 2, 1, 2) Actual Result:  0\n",
            "prediction:  0 data:  (1, 3, 0, 2, 0, 0) Actual Result:  0\n",
            "prediction:  0 data:  (0, 2, 3, 2, 1, 2) Actual Result:  0\n",
            "prediction:  2 data:  (2, 1, 3, 0, 1, 1) Actual Result:  2\n",
            "prediction:  0 data:  (1, 3, 2, 2, 2, 0) Actual Result:  0\n",
            "prediction:  2 data:  (2, 1, 2, 1, 1, 1) Actual Result:  2\n",
            "prediction:  0 data:  (2, 0, 2, 2, 0, 0) Actual Result:  0\n",
            "prediction:  0 data:  (2, 3, 3, 2, 0, 2) Actual Result:  0\n",
            "prediction:  3 data:  (2, 1, 3, 2, 0, 0) Actual Result:  3\n",
            "prediction:  0 data:  (3, 1, 2, 2, 0, 2) Actual Result:  0\n",
            "prediction:  2 data:  (3, 2, 0, 1, 2, 0) Actual Result:  0\n",
            "prediction:  2 data:  (1, 0, 1, 2, 2, 2) Actual Result:  0\n",
            "prediction:  2 data:  (1, 1, 2, 1, 1, 1) Actual Result:  2\n",
            "prediction:  0 data:  (3, 1, 0, 1, 1, 0) Actual Result:  0\n",
            "prediction:  0 data:  (1, 2, 1, 1, 2, 2) Actual Result:  0\n",
            "prediction:  2 data:  (1, 3, 0, 2, 0, 1) Actual Result:  2\n",
            "prediction:  0 data:  (3, 1, 1, 1, 0, 0) Actual Result:  0\n",
            "prediction:  2 data:  (2, 1, 0, 1, 0, 1) Actual Result:  2\n",
            "prediction:  0 data:  (3, 2, 2, 2, 2, 0) Actual Result:  0\n",
            "prediction:  2 data:  (0, 3, 0, 0, 2, 0) Actual Result:  2\n",
            "prediction:  2 data:  (0, 3, 0, 2, 0, 1) Actual Result:  2\n",
            "prediction:  2 data:  (3, 0, 3, 2, 0, 0) Actual Result:  2\n",
            "prediction:  2 data:  (3, 0, 3, 2, 1, 1) Actual Result:  2\n",
            "prediction:  2 data:  (2, 0, 2, 0, 1, 1) Actual Result:  2\n",
            "prediction:  2 data:  (3, 2, 3, 0, 1, 2) Actual Result:  2\n",
            "prediction:  2 data:  (0, 0, 1, 2, 1, 1) Actual Result:  2\n",
            "prediction:  2 data:  (3, 3, 1, 0, 0, 0) Actual Result:  2\n",
            "prediction:  2 data:  (1, 3, 1, 2, 2, 2) Actual Result:  2\n",
            "prediction:  2 data:  (3, 0, 2, 1, 1, 2) Actual Result:  2\n",
            "prediction:  2 data:  (3, 1, 3, 0, 2, 0) Actual Result:  2\n",
            "prediction:  2 data:  (0, 3, 3, 1, 0, 1) Actual Result:  2\n",
            "prediction:  2 data:  (2, 2, 1, 2, 1, 1) Actual Result:  2\n",
            "prediction:  2 data:  (3, 0, 1, 0, 1, 2) Actual Result:  2\n",
            "prediction:  0 data:  (0, 0, 2, 2, 0, 0) Actual Result:  0\n",
            "prediction:  0 data:  (0, 2, 2, 2, 2, 0) Actual Result:  0\n",
            "prediction:  2 data:  (0, 1, 1, 0, 0, 1) Actual Result:  2\n",
            "prediction:  3 data:  (2, 2, 0, 1, 0, 0) Actual Result:  3\n",
            "prediction:  2 data:  (2, 3, 2, 0, 0, 0) Actual Result:  2\n",
            "prediction:  2 data:  (1, 3, 0, 0, 2, 0) Actual Result:  2\n",
            "prediction:  2 data:  (2, 3, 3, 1, 2, 2) Actual Result:  2\n",
            "prediction:  2 data:  (0, 1, 2, 0, 0, 2) Actual Result:  2\n",
            "prediction:  2 data:  (2, 0, 3, 0, 0, 1) Actual Result:  2\n",
            "prediction:  2 data:  (2, 1, 0, 0, 2, 0) Actual Result:  2\n",
            "prediction:  2 data:  (0, 2, 1, 2, 1, 1) Actual Result:  2\n",
            "prediction:  2 data:  (1, 3, 1, 0, 2, 1) Actual Result:  2\n",
            "prediction:  2 data:  (2, 0, 3, 0, 1, 0) Actual Result:  2\n",
            "prediction:  1 data:  (2, 1, 2, 2, 0, 2) Actual Result:  1\n",
            "prediction:  2 data:  (2, 1, 2, 0, 1, 1) Actual Result:  2\n",
            "prediction:  0 data:  (0, 2, 1, 1, 2, 0) Actual Result:  0\n",
            "prediction:  2 data:  (2, 0, 2, 1, 1, 1) Actual Result:  2\n",
            "prediction:  0 data:  (1, 0, 2, 1, 1, 0) Actual Result:  3\n",
            "prediction:  2 data:  (0, 2, 2, 1, 0, 1) Actual Result:  2\n",
            "prediction:  2 data:  (3, 1, 1, 2, 0, 1) Actual Result:  2\n",
            "prediction:  2 data:  (1, 3, 3, 0, 0, 1) Actual Result:  2\n",
            "prediction:  2 data:  (0, 3, 3, 1, 1, 1) Actual Result:  2\n",
            "prediction:  2 data:  (3, 3, 2, 2, 2, 1) Actual Result:  2\n",
            "prediction:  0 data:  (3, 1, 2, 2, 0, 0) Actual Result:  0\n",
            "prediction:  2 data:  (0, 2, 3, 1, 0, 1) Actual Result:  2\n",
            "prediction:  2 data:  (1, 0, 2, 1, 1, 1) Actual Result:  2\n",
            "prediction:  2 data:  (3, 1, 3, 1, 2, 2) Actual Result:  2\n",
            "prediction:  2 data:  (0, 1, 2, 2, 2, 1) Actual Result:  2\n",
            "prediction:  2 data:  (2, 1, 3, 0, 2, 2) Actual Result:  2\n",
            "prediction:  0 data:  (3, 2, 3, 2, 2, 0) Actual Result:  0\n",
            "prediction:  2 data:  (3, 2, 1, 0, 1, 2) Actual Result:  2\n",
            "prediction:  2 data:  (1, 3, 1, 2, 0, 1) Actual Result:  2\n",
            "prediction:  0 data:  (1, 3, 1, 2, 1, 2) Actual Result:  0\n",
            "prediction:  0 data:  (2, 0, 0, 1, 0, 0) Actual Result:  0\n",
            "prediction:  2 data:  (3, 0, 2, 2, 2, 1) Actual Result:  2\n",
            "prediction:  1 data:  (1, 2, 3, 1, 2, 0) Actual Result:  1\n",
            "prediction:  0 data:  (0, 0, 2, 1, 0, 2) Actual Result:  0\n",
            "prediction:  2 data:  (0, 2, 1, 1, 0, 1) Actual Result:  2\n",
            "prediction:  2 data:  (1, 0, 1, 0, 2, 0) Actual Result:  2\n",
            "prediction:  2 data:  (3, 2, 2, 2, 2, 2) Actual Result:  2\n",
            "prediction:  1 data:  (2, 2, 3, 2, 2, 0) Actual Result:  0\n",
            "prediction:  2 data:  (1, 3, 3, 2, 2, 2) Actual Result:  2\n",
            "prediction:  0 data:  (3, 1, 1, 2, 0, 2) Actual Result:  0\n",
            "prediction:  2 data:  (3, 1, 3, 1, 0, 1) Actual Result:  2\n",
            "prediction:  2 data:  (2, 0, 3, 0, 1, 1) Actual Result:  2\n",
            "prediction:  2 data:  (1, 3, 1, 0, 2, 0) Actual Result:  2\n",
            "prediction:  2 data:  (0, 2, 2, 0, 2, 2) Actual Result:  2\n",
            "prediction:  0 data:  (3, 1, 3, 2, 2, 0) Actual Result:  0\n",
            "prediction:  2 data:  (3, 1, 2, 0, 0, 0) Actual Result:  2\n",
            "prediction:  2 data:  (3, 1, 3, 0, 0, 2) Actual Result:  2\n",
            "prediction:  2 data:  (3, 1, 1, 1, 0, 1) Actual Result:  2\n",
            "prediction:  0 data:  (0, 2, 1, 2, 0, 2) Actual Result:  0\n",
            "prediction:  2 data:  (0, 3, 2, 2, 1, 0) Actual Result:  2\n",
            "prediction:  2 data:  (1, 1, 2, 0, 0, 2) Actual Result:  2\n",
            "prediction:  2 data:  (1, 1, 2, 2, 2, 1) Actual Result:  2\n",
            "prediction:  2 data:  (1, 2, 2, 0, 2, 1) Actual Result:  2\n",
            "prediction:  2 data:  (3, 1, 0, 1, 2, 1) Actual Result:  2\n",
            "prediction:  2 data:  (1, 3, 2, 0, 2, 2) Actual Result:  2\n",
            "prediction:  2 data:  (0, 0, 0, 1, 0, 2) Actual Result:  0\n",
            "prediction:  2 data:  (1, 1, 0, 1, 1, 1) Actual Result:  2\n",
            "prediction:  2 data:  (2, 3, 3, 0, 2, 0) Actual Result:  2\n",
            "prediction:  0 data:  (1, 0, 3, 1, 1, 2) Actual Result:  0\n",
            "prediction:  2 data:  (3, 1, 3, 2, 2, 1) Actual Result:  2\n",
            "prediction:  2 data:  (3, 2, 0, 1, 2, 2) Actual Result:  2\n",
            "prediction:  1 data:  (2, 1, 2, 1, 2, 0) Actual Result:  1\n",
            "prediction:  0 data:  (0, 1, 3, 2, 0, 2) Actual Result:  0\n",
            "prediction:  3 data:  (1, 2, 2, 2, 0, 0) Actual Result:  3\n",
            "prediction:  2 data:  (0, 2, 0, 1, 1, 1) Actual Result:  2\n",
            "prediction:  2 data:  (2, 0, 1, 0, 1, 0) Actual Result:  2\n",
            "prediction:  2 data:  (3, 2, 1, 2, 0, 1) Actual Result:  2\n"
          ],
          "name": "stdout"
        }
      ]
    }
  ]
}