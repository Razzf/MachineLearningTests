{
  "nbformat": 4,
  "nbformat_minor": 0,
  "metadata": {
    "colab": {
      "name": "TF2intro.ipynb",
      "provenance": [],
      "collapsed_sections": [],
      "mount_file_id": "1XtJFB_e20IReJRKPrejf7vQSBVXb3bLT",
      "authorship_tag": "ABX9TyO0MuasYQNa9sckYoctgAJQ",
      "include_colab_link": true
    },
    "kernelspec": {
      "name": "python3",
      "display_name": "Python 3"
    }
  },
  "cells": [
    {
      "cell_type": "markdown",
      "metadata": {
        "id": "view-in-github",
        "colab_type": "text"
      },
      "source": [
        "<a href=\"https://colab.research.google.com/github/Razzf/MachineLearningTests/blob/master/TF2intro.ipynb\" target=\"_parent\"><img src=\"https://colab.research.google.com/assets/colab-badge.svg\" alt=\"Open In Colab\"/></a>"
      ]
    },
    {
      "cell_type": "code",
      "metadata": {
        "id": "OY87VduWQA5G",
        "colab_type": "code",
        "colab": {}
      },
      "source": [
        "import numpy as np\n",
        "import pandas as pd"
      ],
      "execution_count": 0,
      "outputs": []
    },
    {
      "cell_type": "code",
      "metadata": {
        "id": "j609sh85C4FE",
        "colab_type": "code",
        "colab": {
          "base_uri": "https://localhost:8080/",
          "height": 153
        },
        "outputId": "efcfa5f6-ebba-4f8a-ead0-df107377b4c6"
      },
      "source": [
        "data = pd.read_csv(\"/content/drive/My Drive/tensorflowtest/student-mat.csv\", sep=\";\")\n",
        "print(data.head())"
      ],
      "execution_count": 4,
      "outputs": [
        {
          "output_type": "stream",
          "text": [
            "  school sex  age address famsize Pstatus  ...  Walc  health absences  G1  G2  G3\n",
            "0     GP   F   18       U     GT3       A  ...     1       3        6   5   6   6\n",
            "1     GP   F   17       U     GT3       T  ...     1       3        4   5   5   6\n",
            "2     GP   F   15       U     LE3       T  ...     3       3       10   7   8  10\n",
            "3     GP   F   15       U     GT3       T  ...     1       5        2  15  14  15\n",
            "4     GP   F   16       U     GT3       T  ...     2       5        4   6  10  10\n",
            "\n",
            "[5 rows x 33 columns]\n"
          ],
          "name": "stdout"
        }
      ]
    }
  ]
}