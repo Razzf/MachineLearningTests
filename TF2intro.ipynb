{
  "nbformat": 4,
  "nbformat_minor": 0,
  "metadata": {
    "colab": {
      "name": "TF2intro.ipynb",
      "provenance": [],
      "collapsed_sections": [],
      "mount_file_id": "1XtJFB_e20IReJRKPrejf7vQSBVXb3bLT",
      "authorship_tag": "ABX9TyObc7q7hMH6rJLIjQJRz3PQ",
      "include_colab_link": true
    },
    "kernelspec": {
      "name": "python3",
      "display_name": "Python 3"
    }
  },
  "cells": [
    {
      "cell_type": "markdown",
      "metadata": {
        "id": "view-in-github",
        "colab_type": "text"
      },
      "source": [
        "<a href=\"https://colab.research.google.com/github/Razzf/MachineLearningTests/blob/master/TF2intro.ipynb\" target=\"_parent\"><img src=\"https://colab.research.google.com/assets/colab-badge.svg\" alt=\"Open In Colab\"/></a>"
      ]
    },
    {
      "cell_type": "code",
      "metadata": {
        "id": "OY87VduWQA5G",
        "colab_type": "code",
        "colab": {}
      },
      "source": [
        "import numpy as np\n",
        "import pandas as pd\n",
        "import sklearn as sk"
      ],
      "execution_count": 0,
      "outputs": []
    },
    {
      "cell_type": "code",
      "metadata": {
        "id": "j609sh85C4FE",
        "colab_type": "code",
        "colab": {}
      },
      "source": [
        "\n",
        "data = pd.read_csv(\"/content/drive/My Drive/tensorflowtest/student-mat.csv\", sep=\";\")\n",
        "#print(data['sex'])\n",
        "data['paid'] = data['paid'].map({'yes':True, 'no':False})\n",
        "data['famsup'] = data['famsup'].map({'yes':True, 'no':False})\n",
        "data['schoolsup'] = data['schoolsup'].map({'yes':True, 'no':False})\n",
        "data['internet'] = data['internet'].map({'yes':True, 'no':False})\n",
        "data['romantic'] = data['romantic'].map({'yes':True, 'no':False})\n",
        "pd.set_option('display.max_columns', data.shape[0]+1)\n",
        "print(data.head())"
      ],
      "execution_count": 0,
      "outputs": []
    },
    {
      "cell_type": "code",
      "metadata": {
        "id": "F3Ndhgvg-HIg",
        "colab_type": "code",
        "colab": {}
      },
      "source": [
        "data = data[[\"G1\", \"G2\", \"G3\", \"studytime\", \"failures\", \"absences\", \"traveltime\", \"famsup\", \"schoolsup\", \"internet\", \"romantic\", \"goout\", \"health\"]]\n",
        "#print(data.head())"
      ],
      "execution_count": 0,
      "outputs": []
    },
    {
      "cell_type": "code",
      "metadata": {
        "id": "4zGF7NFeDtI0",
        "colab_type": "code",
        "colab": {}
      },
      "source": [
        "predict = \"G3\"\n",
        "x = np.array(data.drop([predict], 1))\n",
        "y = np.array(data[predict])\n",
        "x_train, x_test, y_train, y_test = sk.model_selection.train_test_split(x,y, test_size = .1)"
      ],
      "execution_count": 0,
      "outputs": []
    },
    {
      "cell_type": "code",
      "metadata": {
        "id": "BCdlzM0h2ezS",
        "colab_type": "code",
        "colab": {
          "base_uri": "https://localhost:8080/",
          "height": 34
        },
        "outputId": "e871ff3d-3829-4aca-eb0e-237a4b220aa1"
      },
      "source": [
        "linear = sk.linear_model.LinearRegression()\n",
        "linear.fit(x_train, y_train)\n",
        "acc = linear.score(x_test, y_test)\n",
        "print('Accuracy: ', acc)"
      ],
      "execution_count": 437,
      "outputs": [
        {
          "output_type": "stream",
          "text": [
            "Accuracy:  0.9180239264486785\n"
          ],
          "name": "stdout"
        }
      ]
    },
    {
      "cell_type": "code",
      "metadata": {
        "id": "t4tTqvy4R1Td",
        "colab_type": "code",
        "colab": {
          "base_uri": "https://localhost:8080/",
          "height": 68
        },
        "outputId": "fde80dc8-bebe-4b5c-9606-636005e5f360"
      },
      "source": [
        "print('Coeficients: ', linear.coef_)\n",
        "print('intercepts: ', linear.intercept_)"
      ],
      "execution_count": 442,
      "outputs": [
        {
          "output_type": "stream",
          "text": [
            "Coeficients:  [ 0.18504945  0.9676399  -0.15686738 -0.37701047  0.04143424  0.09882174\n",
            "  0.10631925  0.44375759  0.02859626 -0.39972839  0.07966389  0.10404465]\n",
            "intercepts:  -2.617848845374848\n"
          ],
          "name": "stdout"
        }
      ]
    },
    {
      "cell_type": "code",
      "metadata": {
        "id": "_jgtVB20SlVO",
        "colab_type": "code",
        "colab": {
          "base_uri": "https://localhost:8080/",
          "height": 697
        },
        "outputId": "95f4aab8-4417-4f50-bf27-305fcce8b7cd"
      },
      "source": [
        "predictions = linear.predict(x_test)\n",
        "for x in range(len(predictions)):\n",
        "  print('prediction: ', predictions[x], \"| Actual result: \", y_test[x])"
      ],
      "execution_count": 441,
      "outputs": [
        {
          "output_type": "stream",
          "text": [
            "prediction:  12.7073603691043 | Actual result:  13\n",
            "prediction:  13.477203228981757 | Actual result:  15\n",
            "prediction:  15.168930292119914 | Actual result:  16\n",
            "prediction:  11.50779355669632 | Actual result:  13\n",
            "prediction:  16.40221722441612 | Actual result:  16\n",
            "prediction:  9.302372577291585 | Actual result:  10\n",
            "prediction:  15.005225977303208 | Actual result:  16\n",
            "prediction:  4.0449017299039935 | Actual result:  6\n",
            "prediction:  18.64667931502071 | Actual result:  18\n",
            "prediction:  -1.178002905755597 | Actual result:  0\n",
            "prediction:  15.514241211357291 | Actual result:  16\n",
            "prediction:  11.540687112246253 | Actual result:  11\n",
            "prediction:  6.96670458891303 | Actual result:  10\n",
            "prediction:  2.5260761165269408 | Actual result:  0\n",
            "prediction:  13.60650999985275 | Actual result:  14\n",
            "prediction:  10.889229694508494 | Actual result:  11\n",
            "prediction:  15.096884605562803 | Actual result:  17\n",
            "prediction:  8.073255434724263 | Actual result:  10\n",
            "prediction:  14.584842841756927 | Actual result:  14\n",
            "prediction:  5.777484608821524 | Actual result:  6\n",
            "prediction:  10.217189757384856 | Actual result:  11\n",
            "prediction:  -2.1761577267278573 | Actual result:  0\n",
            "prediction:  9.293501988523658 | Actual result:  10\n",
            "prediction:  5.5178527541007565 | Actual result:  7\n",
            "prediction:  4.254686918845083 | Actual result:  6\n",
            "prediction:  8.084351408121604 | Actual result:  9\n",
            "prediction:  14.13701768741221 | Actual result:  14\n",
            "prediction:  14.800515191447268 | Actual result:  15\n",
            "prediction:  5.320299082064047 | Actual result:  6\n",
            "prediction:  11.983795987106834 | Actual result:  13\n",
            "prediction:  9.702962928482602 | Actual result:  10\n",
            "prediction:  5.431318463337945 | Actual result:  6\n",
            "prediction:  9.695799108009593 | Actual result:  10\n",
            "prediction:  -0.40504583140938255 | Actual result:  0\n",
            "prediction:  6.15138422971636 | Actual result:  7\n",
            "prediction:  15.686387337888458 | Actual result:  15\n",
            "prediction:  6.566750089591272 | Actual result:  10\n",
            "prediction:  6.064823610546782 | Actual result:  7\n",
            "prediction:  5.941410866396875 | Actual result:  9\n",
            "prediction:  12.434763032476745 | Actual result:  14\n"
          ],
          "name": "stdout"
        }
      ]
    }
  ]
}