{
  "nbformat": 4,
  "nbformat_minor": 0,
  "metadata": {
    "colab": {
      "name": "GoogLeNet.ipynb",
      "provenance": [],
      "collapsed_sections": [],
      "mount_file_id": "1DKZtKw3LU4K3SYVzizSHXerywHIAAJ3J",
      "authorship_tag": "ABX9TyN0DJYx/MgPdwOdn+fCqw9Y",
      "include_colab_link": true
    },
    "kernelspec": {
      "name": "python3",
      "display_name": "Python 3"
    },
    "accelerator": "TPU"
  },
  "cells": [
    {
      "cell_type": "markdown",
      "metadata": {
        "id": "view-in-github",
        "colab_type": "text"
      },
      "source": [
        "<a href=\"https://colab.research.google.com/github/Razzf/MachineLearningTests/blob/master/GoogLeNet.ipynb\" target=\"_parent\"><img src=\"https://colab.research.google.com/assets/colab-badge.svg\" alt=\"Open In Colab\"/></a>"
      ]
    },
    {
      "cell_type": "code",
      "metadata": {
        "id": "9_2x7aEqK18p",
        "colab_type": "code",
        "colab": {}
      },
      "source": [
        "import numpy as np\n",
        "import os\n",
        "import cv2\n",
        "import random\n",
        "from IPython.display import clear_output\n",
        "from google.colab.patches import cv2_imshow\n",
        "\n",
        "from sklearn import model_selection\n",
        "\n",
        "import tensorflow as tf\n",
        "from tensorflow.keras.layers import Dense, Activation, BatchNormalization, Dropout, Flatten, Conv2D, MaxPooling2D\n",
        "from tensorflow.keras.models import Sequential\n",
        "\n"
      ],
      "execution_count": 8,
      "outputs": []
    },
    {
      "cell_type": "code",
      "metadata": {
        "id": "L7KxnB4NLcS4",
        "colab_type": "code",
        "colab": {}
      },
      "source": [
        "DATADIR = \"/content/drive/My Drive/color\"\n",
        "CATEGORIES = [\"Apple___Apple_scab\", \"Apple___Black_rot\", \"Apple___Cedar_apple_rust\",\n",
        "              \"Apple___healthy\", \"Blueberry___healthy\", \"Cherry_(including_sour)___Powdery_mildew\",\n",
        "              \"Cherry_(including_sour)___healthy\", \"Corn_(maize)___Cercospora_leaf_spot Gray_leaf_spot\",\n",
        "              \"Corn_(maize)___Common_rust_\", \"Corn_(maize)___Northern_Leaf_Blight\", \"Corn_(maize)___healthy\",\n",
        "              \"Grape___Black_rot\", \"Grape___Esca_(Black_Measles)\", \"Grape___Leaf_blight_(Isariopsis_Leaf_Spot)\",\n",
        "              \"Grape___healthy\", \"Orange___Haunglongbing_(Citrus_greening)\", \"Peach___Bacterial_spot\",\n",
        "              \"Peach___healthy\", \"Pepper,_bell___Bacterial_spot\", \"Pepper,_bell___healthy\", \"Potato___Early_blight\",\n",
        "              \"Potato___Late_blight\", \"Potato___healthy\", \"Raspberry___healthy\", \"Soybean___healthy\",\n",
        "              \"Squash___Powdery_mildew\", \"Strawberry___Leaf_scorch\", \"Strawberry___healthy\", \n",
        "              \"Tomato___Bacterial_spot\", \"Tomato___Early_blight\", \"Tomato___Late_blight\", \"Tomato___Leaf_Mold\",\n",
        "              \"Tomato___Septoria_leaf_spot\", \"Tomato___Spider_mites Two-spotted_spider_mite\",\n",
        "              \"Tomato___Target_Spot\", \"Tomato___Tomato_Yellow_Leaf_Curl_Virus\", \"Tomato___Tomato_mosaic_virus\",\n",
        "              \"Tomato___healthy\"]"
      ],
      "execution_count": 9,
      "outputs": []
    },
    {
      "cell_type": "code",
      "metadata": {
        "id": "VjC4vs2wbkYD",
        "colab_type": "code",
        "colab": {
          "base_uri": "https://localhost:8080/",
          "height": 54
        },
        "outputId": "6515275e-4612-42e4-9c97-de4052667477"
      },
      "source": [
        "training_data = []\n",
        "counter = 0\n",
        "#CATEGORIES = np.array(CATEGORIES)\n",
        "CATEGORIES = CATEGORIES[28:]\n",
        "print(CATEGORIES)"
      ],
      "execution_count": 10,
      "outputs": [
        {
          "output_type": "stream",
          "text": [
            "['Tomato___Bacterial_spot', 'Tomato___Early_blight', 'Tomato___Late_blight', 'Tomato___Leaf_Mold', 'Tomato___Septoria_leaf_spot', 'Tomato___Spider_mites Two-spotted_spider_mite', 'Tomato___Target_Spot', 'Tomato___Tomato_Yellow_Leaf_Curl_Virus', 'Tomato___Tomato_mosaic_virus', 'Tomato___healthy']\n"
          ],
          "name": "stdout"
        }
      ]
    },
    {
      "cell_type": "code",
      "metadata": {
        "id": "zZXGuNwfU5ib",
        "colab_type": "code",
        "colab": {}
      },
      "source": [
        "IMG_SIZE = 224\n",
        "def create_training_data():\n",
        "  for category in CATEGORIES:\n",
        "    counter = 0\n",
        "    path = os.path.join(DATADIR, category)\n",
        "    class_index = CATEGORIES.index(category)\n",
        "    class_array = [0, 0, 0, 0, 0, 0, 0, 0, 0, 0]\n",
        "    for img in os.listdir(path):\n",
        "      class_array = [0, 0, 0, 0, 0, 0, 0, 0, 0, 0]\n",
        "      counter = counter + 1\n",
        "      print(class_index, \":\", category, \": image number :\", counter)\n",
        "      class_array[class_index] = 1\n",
        "      img_array = cv2.imread(os.path.join(path, img), cv2.IMREAD_ANYCOLOR)\n",
        "      img_array = cv2.cvtColor(img_array, cv2.COLOR_BGR2RGB)\n",
        "      new_array = cv2.resize(img_array, (IMG_SIZE, IMG_SIZE))\n",
        "      #optional resize (in this case isn't necesary)\n",
        "      training_data.append((new_array, class_array))\n",
        "      if counter % 3 == 0:\n",
        "        clear_output()\n",
        "      if counter > 1000:\n",
        "        break\n",
        "    \n",
        "\n",
        "\n",
        "\n"
      ],
      "execution_count": 11,
      "outputs": []
    },
    {
      "cell_type": "code",
      "metadata": {
        "id": "muf10akTbloO",
        "colab_type": "code",
        "colab": {
          "base_uri": "https://localhost:8080/",
          "height": 299
        },
        "outputId": "e012e561-d889-4dce-9037-b2be570a446b"
      },
      "source": [
        "create_training_data()"
      ],
      "execution_count": 12,
      "outputs": [
        {
          "output_type": "stream",
          "text": [
            "0 : Tomato___Bacterial_spot : image number : 94\n"
          ],
          "name": "stdout"
        },
        {
          "output_type": "error",
          "ename": "KeyboardInterrupt",
          "evalue": "ignored",
          "traceback": [
            "\u001b[0;31m---------------------------------------------------------------------------\u001b[0m",
            "\u001b[0;31mKeyboardInterrupt\u001b[0m                         Traceback (most recent call last)",
            "\u001b[0;32m<ipython-input-12-be131b356c3a>\u001b[0m in \u001b[0;36m<module>\u001b[0;34m()\u001b[0m\n\u001b[0;32m----> 1\u001b[0;31m \u001b[0mcreate_training_data\u001b[0m\u001b[0;34m(\u001b[0m\u001b[0;34m)\u001b[0m\u001b[0;34m\u001b[0m\u001b[0;34m\u001b[0m\u001b[0m\n\u001b[0m",
            "\u001b[0;32m<ipython-input-11-b8b567ceeb25>\u001b[0m in \u001b[0;36mcreate_training_data\u001b[0;34m()\u001b[0m\n\u001b[1;32m     11\u001b[0m       \u001b[0mprint\u001b[0m\u001b[0;34m(\u001b[0m\u001b[0mclass_index\u001b[0m\u001b[0;34m,\u001b[0m \u001b[0;34m\":\"\u001b[0m\u001b[0;34m,\u001b[0m \u001b[0mcategory\u001b[0m\u001b[0;34m,\u001b[0m \u001b[0;34m\": image number :\"\u001b[0m\u001b[0;34m,\u001b[0m \u001b[0mcounter\u001b[0m\u001b[0;34m)\u001b[0m\u001b[0;34m\u001b[0m\u001b[0;34m\u001b[0m\u001b[0m\n\u001b[1;32m     12\u001b[0m       \u001b[0mclass_array\u001b[0m\u001b[0;34m[\u001b[0m\u001b[0mclass_index\u001b[0m\u001b[0;34m]\u001b[0m \u001b[0;34m=\u001b[0m \u001b[0;36m1\u001b[0m\u001b[0;34m\u001b[0m\u001b[0;34m\u001b[0m\u001b[0m\n\u001b[0;32m---> 13\u001b[0;31m       \u001b[0mimg_array\u001b[0m \u001b[0;34m=\u001b[0m \u001b[0mcv2\u001b[0m\u001b[0;34m.\u001b[0m\u001b[0mimread\u001b[0m\u001b[0;34m(\u001b[0m\u001b[0mos\u001b[0m\u001b[0;34m.\u001b[0m\u001b[0mpath\u001b[0m\u001b[0;34m.\u001b[0m\u001b[0mjoin\u001b[0m\u001b[0;34m(\u001b[0m\u001b[0mpath\u001b[0m\u001b[0;34m,\u001b[0m \u001b[0mimg\u001b[0m\u001b[0;34m)\u001b[0m\u001b[0;34m,\u001b[0m \u001b[0mcv2\u001b[0m\u001b[0;34m.\u001b[0m\u001b[0mIMREAD_ANYCOLOR\u001b[0m\u001b[0;34m)\u001b[0m\u001b[0;34m\u001b[0m\u001b[0;34m\u001b[0m\u001b[0m\n\u001b[0m\u001b[1;32m     14\u001b[0m       \u001b[0mimg_array\u001b[0m \u001b[0;34m=\u001b[0m \u001b[0mcv2\u001b[0m\u001b[0;34m.\u001b[0m\u001b[0mcvtColor\u001b[0m\u001b[0;34m(\u001b[0m\u001b[0mimg_array\u001b[0m\u001b[0;34m,\u001b[0m \u001b[0mcv2\u001b[0m\u001b[0;34m.\u001b[0m\u001b[0mCOLOR_BGR2RGB\u001b[0m\u001b[0;34m)\u001b[0m\u001b[0;34m\u001b[0m\u001b[0;34m\u001b[0m\u001b[0m\n\u001b[1;32m     15\u001b[0m       \u001b[0mnew_array\u001b[0m \u001b[0;34m=\u001b[0m \u001b[0mcv2\u001b[0m\u001b[0;34m.\u001b[0m\u001b[0mresize\u001b[0m\u001b[0;34m(\u001b[0m\u001b[0mimg_array\u001b[0m\u001b[0;34m,\u001b[0m \u001b[0;34m(\u001b[0m\u001b[0mIMG_SIZE\u001b[0m\u001b[0;34m,\u001b[0m \u001b[0mIMG_SIZE\u001b[0m\u001b[0;34m)\u001b[0m\u001b[0;34m)\u001b[0m\u001b[0;34m\u001b[0m\u001b[0;34m\u001b[0m\u001b[0m\n",
            "\u001b[0;31mKeyboardInterrupt\u001b[0m: "
          ]
        }
      ]
    },
    {
      "cell_type": "code",
      "metadata": {
        "id": "Fdl-4N7kbmRH",
        "colab_type": "code",
        "colab": {}
      },
      "source": [
        "\n",
        "\n",
        "random.shuffle(training_data)\n",
        "\n",
        "X = []\n",
        "y = []\n",
        "\n",
        "for features,label in training_data:\n",
        "    X.append(features)\n",
        "    y.append(label)\n",
        "\n",
        "\n",
        "\n",
        "X = np.array(X).reshape(-1, IMG_SIZE, IMG_SIZE, 3)\n",
        "y = np.array(y)"
      ],
      "execution_count": null,
      "outputs": []
    },
    {
      "cell_type": "code",
      "metadata": {
        "id": "-2HkmhtDfWYs",
        "colab_type": "code",
        "colab": {}
      },
      "source": [
        "print(X[0])\n",
        "print(y[0])"
      ],
      "execution_count": null,
      "outputs": []
    },
    {
      "cell_type": "code",
      "metadata": {
        "id": "ST_AUYdeVjR4",
        "colab_type": "code",
        "colab": {}
      },
      "source": [
        "x_train, x_test, y_train, y_test = model_selection.train_test_split(X, y, test_size=.2)\n",
        "\n",
        "model.fit(X, y, batch_size=16, epochs=25, validation_split=.2)"
      ],
      "execution_count": null,
      "outputs": []
    },
    {
      "cell_type": "code",
      "metadata": {
        "id": "Is7tdezQKoGu",
        "colab_type": "code",
        "colab": {}
      },
      "source": [
        "x_train, x_test, y_train, y_test = model_selection.train_test_split(X, y, test_size=.2)\n",
        "\n",
        "from tensorflow.keras.models import Model\n",
        "from tensorflow.keras import backend as K \n",
        "from tensorflow.keras.layers import Conv2D, MaxPool2D,  \\\n",
        "    Dropout, Dense, Input, concatenate,      \\\n",
        "    GlobalAveragePooling2D, AveragePooling2D,\\\n",
        "    Flatten\n",
        "\n",
        "import math \n",
        "from keras.optimizers import SGD \n",
        "\n",
        "def inception_module(x, fs_1x1, fs_3x3, fs_5x5, fs_pool_proj, fs_3x3_rd, fs_5x5_rd, name=None):\n",
        "    \n",
        "    conv_1x1 = Conv2D(fs_1x1, (1, 1), strides=(1, 1), padding='same', activation='relu')(x)\n",
        "    \n",
        "    conv_3x3 = Conv2D(fs_3x3_rd, (1, 1), strides=(1, 1), padding='same', activation='relu')(x)\n",
        "    conv_3x3 = Conv2D(fs_3x3, (3, 3), strides=(1, 1), padding='same', activation='relu')(conv_3x3)\n",
        "\n",
        "    conv_5x5 = Conv2D(fs_5x5_rd, (1, 1), strides=(1, 1), padding='same', activation='relu')(x)\n",
        "    conv_5x5 = Conv2D(fs_5x5, (5, 5), strides=(1, 1), padding='same', activation='relu')(conv_5x5)\n",
        "\n",
        "    pool_proj = MaxPool2D((3, 3), strides=(1, 1), padding='same')(x)\n",
        "    pool_proj = Conv2D(fs_pool_proj, (1, 1), padding='same', activation='relu')(pool_proj)\n",
        "\n",
        "    output = concatenate([conv_1x1, conv_3x3, conv_5x5, pool_proj], axis=3, name=name)\n",
        "    \n",
        "    return output\n",
        "\n",
        "\n",
        "input_layer = Input(shape=(224, 224, 3))\n",
        "\n",
        "x = Conv2D(64, (7, 7), padding='same', strides=(2, 2), activation='relu', name='conv_1_7x7/2')(input_layer)\n",
        "x = MaxPool2D((3, 3), padding='same', strides=(2, 2), name='max_pool_1_3x3/2')(x)\n",
        "x = Conv2D(64, (1, 1), padding='same', strides=(1, 1), activation='relu', name='conv_2a_3x3/1')(x)\n",
        "x = Conv2D(192, (3, 3), padding='same', strides=(1, 1), activation='relu', name='conv_2b_3x3/1')(x)\n",
        "x = MaxPool2D((3, 3), padding='same', strides=(2, 2), name='max_pool_2_3x3/2')(x)\n",
        "\n",
        "x = inception_module(x, fs_1x1=64, fs_3x3_rd=96, fs_3x3=128, fs_5x5_rd=16, fs_5x5=32, fs_pool_proj=32, name='inception_3a')\n",
        "\n",
        "x = inception_module(x,fs_1x1=128, fs_3x3_rd=128, fs_3x3=192, fs_5x5_rd=32, fs_5x5=96, fs_pool_proj=64, name='inception_3b')\n",
        "\n",
        "x = MaxPool2D((3, 3), padding='same', strides=(2, 2), name='max_pool_3_3x3/2')(x)\n",
        "\n",
        "x = inception_module(x, fs_1x1=192, fs_3x3_rd=96, fs_3x3=208, fs_5x5_rd=16, fs_5x5=48, fs_pool_proj=64, name='inception_4a')\n",
        "\n",
        "x1 = AveragePooling2D((5, 5), strides=3)(x)\n",
        "x1 = Conv2D(128, (1, 1), padding='same', activation='relu')(x1)\n",
        "x1 = Flatten()(x1)\n",
        "x1 = Dense(1024, activation='relu')(x1)\n",
        "x1 = Dropout(0.7)(x1)\n",
        "x1 = Dense(10, activation='softmax', name='auxilliary_output_1')(x1)\n",
        "\n",
        "x = inception_module(x, fs_1x1=160, fs_3x3_rd=112, fs_3x3=224, fs_5x5_rd=24, fs_5x5=64, fs_pool_proj=64, name='inception_4b')\n",
        "\n",
        "x = inception_module(x, fs_1x1=128, fs_3x3_rd=128, fs_3x3=256, fs_5x5_rd=24, fs_5x5=64, fs_pool_proj=64, name='inception_4c')\n",
        "\n",
        "x = inception_module(x, fs_1x1=112, fs_3x3_rd=144, fs_3x3=288, fs_5x5_rd=32, fs_5x5=64, fs_pool_proj=64, name='inception_4d')\n",
        "\n",
        "x2 = AveragePooling2D((5, 5), strides=3)(x)\n",
        "x2 = Conv2D(128, (1, 1), padding='same', activation='relu')(x2)\n",
        "x2 = Flatten()(x2)\n",
        "x2 = Dense(1024, activation='relu')(x2)\n",
        "x2 = Dropout(0.7)(x2)\n",
        "x2 = Dense(10, activation='softmax', name='auxilliary_output_2')(x2)\n",
        "\n",
        "x = inception_module(x, fs_1x1=256, fs_3x3_rd=160, fs_3x3=320, fs_5x5_rd=32, fs_5x5=128, fs_pool_proj=128, name='inception_4e')\n",
        "\n",
        "x = MaxPool2D((3, 3), padding='same', strides=(2, 2), name='max_pool_4_3x3/2')(x)\n",
        "\n",
        "x = inception_module(x, fs_1x1=256, fs_3x3_rd=160, fs_3x3=320, fs_5x5_rd=32, fs_5x5=128, fs_pool_proj=128, name='inception_5a')\n",
        "\n",
        "x = inception_module(x, fs_1x1=384, fs_3x3_rd=192, fs_3x3=384, fs_5x5_rd=48, fs_5x5=128, fs_pool_proj=128, name='inception_5b')\n",
        "\n",
        "x = GlobalAveragePooling2D(name='avg_pool_5_3x3/1')(x)\n",
        "\n",
        "x = Dropout(0.4)(x)\n",
        "\n",
        "x = Dense(10, activation='softmax', name='output')(x)\n",
        "\n",
        "\n",
        "\n",
        "model = Model(input_layer, [x, x1, x2], name='inception_v1')\n",
        "\n",
        "sgd = SGD(lr=0.01, momentum=0.9, nesterov=False)\n",
        "\n",
        "model.compile(loss=['categorical_crossentropy', 'categorical_crossentropy', 'categorical_crossentropy'], optimizer=sgd, metrics=['accuracy'])\n",
        "\n",
        "model.fit(X_train, [y_train, y_train, y_train], validation_split=[0.2, 0.2, 0.2], epochs=25, batch_size=16)"
      ],
      "execution_count": null,
      "outputs": []
    }
  ]
}